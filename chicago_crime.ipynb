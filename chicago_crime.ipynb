{
 "cells": [
  {
   "cell_type": "code",
   "execution_count": 188,
   "id": "5a6b38b0",
   "metadata": {},
   "outputs": [
    {
     "name": "stdout",
     "output_type": "stream",
     "text": [
      "Requirement already satisfied: pyspark in /Users/abhinav/opt/anaconda3/lib/python3.9/site-packages (3.3.1)\n",
      "Requirement already satisfied: py4j==0.10.9.5 in /Users/abhinav/opt/anaconda3/lib/python3.9/site-packages (from pyspark) (0.10.9.5)\n",
      "\n",
      "\u001b[1m[\u001b[0m\u001b[34;49mnotice\u001b[0m\u001b[1;39;49m]\u001b[0m\u001b[39;49m A new release of pip is available: \u001b[0m\u001b[31;49m23.0\u001b[0m\u001b[39;49m -> \u001b[0m\u001b[32;49m23.0.1\u001b[0m\n",
      "\u001b[1m[\u001b[0m\u001b[34;49mnotice\u001b[0m\u001b[1;39;49m]\u001b[0m\u001b[39;49m To update, run: \u001b[0m\u001b[32;49mpip install --upgrade pip\u001b[0m\n"
     ]
    }
   ],
   "source": [
    "!pip install pyspark\n"
   ]
  },
  {
   "cell_type": "code",
   "execution_count": 189,
   "id": "001d2283",
   "metadata": {},
   "outputs": [],
   "source": [
    "import pyspark\n",
    "from pyspark.sql import functions as f"
   ]
  },
  {
   "cell_type": "code",
   "execution_count": 190,
   "id": "67e8ad9a",
   "metadata": {},
   "outputs": [],
   "source": [
    "import pandas as pd"
   ]
  },
  {
   "cell_type": "code",
   "execution_count": 191,
   "id": "e9125545",
   "metadata": {},
   "outputs": [
    {
     "name": "stdout",
     "output_type": "stream",
     "text": [
      "Requirement already satisfied: pandas in /Users/abhinav/opt/anaconda3/lib/python3.9/site-packages (1.5.3)\n",
      "Requirement already satisfied: python-dateutil>=2.8.1 in /Users/abhinav/opt/anaconda3/lib/python3.9/site-packages (from pandas) (2.8.2)\n",
      "Requirement already satisfied: pytz>=2020.1 in /Users/abhinav/opt/anaconda3/lib/python3.9/site-packages (from pandas) (2022.1)\n",
      "Requirement already satisfied: numpy>=1.20.3 in /Users/abhinav/opt/anaconda3/lib/python3.9/site-packages (from pandas) (1.22.1)\n",
      "Requirement already satisfied: six>=1.5 in /Users/abhinav/opt/anaconda3/lib/python3.9/site-packages (from python-dateutil>=2.8.1->pandas) (1.16.0)\n",
      "\n",
      "\u001b[1m[\u001b[0m\u001b[34;49mnotice\u001b[0m\u001b[1;39;49m]\u001b[0m\u001b[39;49m A new release of pip is available: \u001b[0m\u001b[31;49m23.0\u001b[0m\u001b[39;49m -> \u001b[0m\u001b[32;49m23.0.1\u001b[0m\n",
      "\u001b[1m[\u001b[0m\u001b[34;49mnotice\u001b[0m\u001b[1;39;49m]\u001b[0m\u001b[39;49m To update, run: \u001b[0m\u001b[32;49mpip install --upgrade pip\u001b[0m\n"
     ]
    }
   ],
   "source": [
    "!pip install pandas"
   ]
  },
  {
   "cell_type": "code",
   "execution_count": 192,
   "id": "7690c521",
   "metadata": {},
   "outputs": [],
   "source": [
    "import pandas as pd"
   ]
  },
  {
   "cell_type": "code",
   "execution_count": 193,
   "id": "fb5cd05c",
   "metadata": {},
   "outputs": [
    {
     "data": {
      "text/html": [
       "<div>\n",
       "<style scoped>\n",
       "    .dataframe tbody tr th:only-of-type {\n",
       "        vertical-align: middle;\n",
       "    }\n",
       "\n",
       "    .dataframe tbody tr th {\n",
       "        vertical-align: top;\n",
       "    }\n",
       "\n",
       "    .dataframe thead th {\n",
       "        text-align: right;\n",
       "    }\n",
       "</style>\n",
       "<table border=\"1\" class=\"dataframe\">\n",
       "  <thead>\n",
       "    <tr style=\"text-align: right;\">\n",
       "      <th></th>\n",
       "      <th>ID</th>\n",
       "      <th>Case Number</th>\n",
       "      <th>Date</th>\n",
       "      <th>Block</th>\n",
       "      <th>IUCR</th>\n",
       "      <th>Primary Type</th>\n",
       "      <th>Description</th>\n",
       "      <th>Location Description</th>\n",
       "      <th>Arrest</th>\n",
       "      <th>Domestic</th>\n",
       "      <th>...</th>\n",
       "      <th>Ward</th>\n",
       "      <th>Community Area</th>\n",
       "      <th>FBI Code</th>\n",
       "      <th>X Coordinate</th>\n",
       "      <th>Y Coordinate</th>\n",
       "      <th>Year</th>\n",
       "      <th>Updated On</th>\n",
       "      <th>Latitude</th>\n",
       "      <th>Longitude</th>\n",
       "      <th>Location</th>\n",
       "    </tr>\n",
       "  </thead>\n",
       "  <tbody>\n",
       "    <tr>\n",
       "      <th>0</th>\n",
       "      <td>10224738</td>\n",
       "      <td>HY411648</td>\n",
       "      <td>09/05/2015 01:30:00 PM</td>\n",
       "      <td>043XX S WOOD ST</td>\n",
       "      <td>0486</td>\n",
       "      <td>BATTERY</td>\n",
       "      <td>DOMESTIC BATTERY SIMPLE</td>\n",
       "      <td>RESIDENCE</td>\n",
       "      <td>False</td>\n",
       "      <td>True</td>\n",
       "      <td>...</td>\n",
       "      <td>12.0</td>\n",
       "      <td>61.0</td>\n",
       "      <td>08B</td>\n",
       "      <td>1165074.0</td>\n",
       "      <td>1875917.0</td>\n",
       "      <td>2015.0</td>\n",
       "      <td>02/10/2018 03:50:01 PM</td>\n",
       "      <td>41.815117</td>\n",
       "      <td>-87.670000</td>\n",
       "      <td>(41.815117282, -87.669999562)</td>\n",
       "    </tr>\n",
       "    <tr>\n",
       "      <th>1</th>\n",
       "      <td>10224739</td>\n",
       "      <td>HY411615</td>\n",
       "      <td>09/04/2015 11:30:00 AM</td>\n",
       "      <td>008XX N CENTRAL AVE</td>\n",
       "      <td>0870</td>\n",
       "      <td>THEFT</td>\n",
       "      <td>POCKET-PICKING</td>\n",
       "      <td>CTA BUS</td>\n",
       "      <td>False</td>\n",
       "      <td>False</td>\n",
       "      <td>...</td>\n",
       "      <td>29.0</td>\n",
       "      <td>25.0</td>\n",
       "      <td>06</td>\n",
       "      <td>1138875.0</td>\n",
       "      <td>1904869.0</td>\n",
       "      <td>2015.0</td>\n",
       "      <td>02/10/2018 03:50:01 PM</td>\n",
       "      <td>41.895080</td>\n",
       "      <td>-87.765400</td>\n",
       "      <td>(41.895080471, -87.765400451)</td>\n",
       "    </tr>\n",
       "    <tr>\n",
       "      <th>2</th>\n",
       "      <td>11646166</td>\n",
       "      <td>JC213529</td>\n",
       "      <td>09/01/2018 12:01:00 AM</td>\n",
       "      <td>082XX S INGLESIDE AVE</td>\n",
       "      <td>0810</td>\n",
       "      <td>THEFT</td>\n",
       "      <td>OVER $500</td>\n",
       "      <td>RESIDENCE</td>\n",
       "      <td>False</td>\n",
       "      <td>True</td>\n",
       "      <td>...</td>\n",
       "      <td>8.0</td>\n",
       "      <td>44.0</td>\n",
       "      <td>06</td>\n",
       "      <td>NaN</td>\n",
       "      <td>NaN</td>\n",
       "      <td>2018.0</td>\n",
       "      <td>04/06/2019 04:04:43 PM</td>\n",
       "      <td>NaN</td>\n",
       "      <td>NaN</td>\n",
       "      <td>NaN</td>\n",
       "    </tr>\n",
       "    <tr>\n",
       "      <th>3</th>\n",
       "      <td>10224740</td>\n",
       "      <td>HY411595</td>\n",
       "      <td>09/05/2015 12:45:00 PM</td>\n",
       "      <td>035XX W BARRY AVE</td>\n",
       "      <td>2023</td>\n",
       "      <td>NARCOTICS</td>\n",
       "      <td>POSS: HEROIN(BRN/TAN)</td>\n",
       "      <td>SIDEWALK</td>\n",
       "      <td>True</td>\n",
       "      <td>False</td>\n",
       "      <td>...</td>\n",
       "      <td>35.0</td>\n",
       "      <td>21.0</td>\n",
       "      <td>18</td>\n",
       "      <td>1152037.0</td>\n",
       "      <td>1920384.0</td>\n",
       "      <td>2015.0</td>\n",
       "      <td>02/10/2018 03:50:01 PM</td>\n",
       "      <td>41.937406</td>\n",
       "      <td>-87.716650</td>\n",
       "      <td>(41.937405765, -87.716649687)</td>\n",
       "    </tr>\n",
       "    <tr>\n",
       "      <th>4</th>\n",
       "      <td>10224741</td>\n",
       "      <td>HY411610</td>\n",
       "      <td>09/05/2015 01:00:00 PM</td>\n",
       "      <td>0000X N LARAMIE AVE</td>\n",
       "      <td>0560</td>\n",
       "      <td>ASSAULT</td>\n",
       "      <td>SIMPLE</td>\n",
       "      <td>APARTMENT</td>\n",
       "      <td>False</td>\n",
       "      <td>True</td>\n",
       "      <td>...</td>\n",
       "      <td>28.0</td>\n",
       "      <td>25.0</td>\n",
       "      <td>08A</td>\n",
       "      <td>1141706.0</td>\n",
       "      <td>1900086.0</td>\n",
       "      <td>2015.0</td>\n",
       "      <td>02/10/2018 03:50:01 PM</td>\n",
       "      <td>41.881903</td>\n",
       "      <td>-87.755121</td>\n",
       "      <td>(41.881903443, -87.755121152)</td>\n",
       "    </tr>\n",
       "    <tr>\n",
       "      <th>...</th>\n",
       "      <td>...</td>\n",
       "      <td>...</td>\n",
       "      <td>...</td>\n",
       "      <td>...</td>\n",
       "      <td>...</td>\n",
       "      <td>...</td>\n",
       "      <td>...</td>\n",
       "      <td>...</td>\n",
       "      <td>...</td>\n",
       "      <td>...</td>\n",
       "      <td>...</td>\n",
       "      <td>...</td>\n",
       "      <td>...</td>\n",
       "      <td>...</td>\n",
       "      <td>...</td>\n",
       "      <td>...</td>\n",
       "      <td>...</td>\n",
       "      <td>...</td>\n",
       "      <td>...</td>\n",
       "      <td>...</td>\n",
       "      <td>...</td>\n",
       "    </tr>\n",
       "    <tr>\n",
       "      <th>4071165</th>\n",
       "      <td>5789137</td>\n",
       "      <td>HN594889</td>\n",
       "      <td>09/17/2007 06:00:00 AM</td>\n",
       "      <td>100XX W OHARE ST</td>\n",
       "      <td>0810</td>\n",
       "      <td>THEFT</td>\n",
       "      <td>OVER $500</td>\n",
       "      <td>AIRPORT/AIRCRAFT</td>\n",
       "      <td>False</td>\n",
       "      <td>False</td>\n",
       "      <td>...</td>\n",
       "      <td>41.0</td>\n",
       "      <td>76.0</td>\n",
       "      <td>06</td>\n",
       "      <td>1100658.0</td>\n",
       "      <td>1934241.0</td>\n",
       "      <td>2007.0</td>\n",
       "      <td>02/28/2{</td>\n",
       "      <td>NaN</td>\n",
       "      <td>NaN</td>\n",
       "      <td>NaN</td>\n",
       "    </tr>\n",
       "    <tr>\n",
       "      <th>4071166</th>\n",
       "      <td>\"error\" : true</td>\n",
       "      <td>NaN</td>\n",
       "      <td>NaN</td>\n",
       "      <td>NaN</td>\n",
       "      <td>NaN</td>\n",
       "      <td>NaN</td>\n",
       "      <td>NaN</td>\n",
       "      <td>NaN</td>\n",
       "      <td>NaN</td>\n",
       "      <td>NaN</td>\n",
       "      <td>...</td>\n",
       "      <td>NaN</td>\n",
       "      <td>NaN</td>\n",
       "      <td>NaN</td>\n",
       "      <td>NaN</td>\n",
       "      <td>NaN</td>\n",
       "      <td>NaN</td>\n",
       "      <td>NaN</td>\n",
       "      <td>NaN</td>\n",
       "      <td>NaN</td>\n",
       "      <td>NaN</td>\n",
       "    </tr>\n",
       "    <tr>\n",
       "      <th>4071167</th>\n",
       "      <td>\"message\" : \"Internal error\"</td>\n",
       "      <td>NaN</td>\n",
       "      <td>NaN</td>\n",
       "      <td>NaN</td>\n",
       "      <td>NaN</td>\n",
       "      <td>NaN</td>\n",
       "      <td>NaN</td>\n",
       "      <td>NaN</td>\n",
       "      <td>NaN</td>\n",
       "      <td>NaN</td>\n",
       "      <td>...</td>\n",
       "      <td>NaN</td>\n",
       "      <td>NaN</td>\n",
       "      <td>NaN</td>\n",
       "      <td>NaN</td>\n",
       "      <td>NaN</td>\n",
       "      <td>NaN</td>\n",
       "      <td>NaN</td>\n",
       "      <td>NaN</td>\n",
       "      <td>NaN</td>\n",
       "      <td>NaN</td>\n",
       "    </tr>\n",
       "    <tr>\n",
       "      <th>4071168</th>\n",
       "      <td>\"status\" : 500</td>\n",
       "      <td>NaN</td>\n",
       "      <td>NaN</td>\n",
       "      <td>NaN</td>\n",
       "      <td>NaN</td>\n",
       "      <td>NaN</td>\n",
       "      <td>NaN</td>\n",
       "      <td>NaN</td>\n",
       "      <td>NaN</td>\n",
       "      <td>NaN</td>\n",
       "      <td>...</td>\n",
       "      <td>NaN</td>\n",
       "      <td>NaN</td>\n",
       "      <td>NaN</td>\n",
       "      <td>NaN</td>\n",
       "      <td>NaN</td>\n",
       "      <td>NaN</td>\n",
       "      <td>NaN</td>\n",
       "      <td>NaN</td>\n",
       "      <td>NaN</td>\n",
       "      <td>NaN</td>\n",
       "    </tr>\n",
       "    <tr>\n",
       "      <th>4071169</th>\n",
       "      <td>}</td>\n",
       "      <td>NaN</td>\n",
       "      <td>NaN</td>\n",
       "      <td>NaN</td>\n",
       "      <td>NaN</td>\n",
       "      <td>NaN</td>\n",
       "      <td>NaN</td>\n",
       "      <td>NaN</td>\n",
       "      <td>NaN</td>\n",
       "      <td>NaN</td>\n",
       "      <td>...</td>\n",
       "      <td>NaN</td>\n",
       "      <td>NaN</td>\n",
       "      <td>NaN</td>\n",
       "      <td>NaN</td>\n",
       "      <td>NaN</td>\n",
       "      <td>NaN</td>\n",
       "      <td>NaN</td>\n",
       "      <td>NaN</td>\n",
       "      <td>NaN</td>\n",
       "      <td>NaN</td>\n",
       "    </tr>\n",
       "  </tbody>\n",
       "</table>\n",
       "<p>4071170 rows × 22 columns</p>\n",
       "</div>"
      ],
      "text/plain": [
       "                                     ID Case Number                    Date  \\\n",
       "0                              10224738    HY411648  09/05/2015 01:30:00 PM   \n",
       "1                              10224739    HY411615  09/04/2015 11:30:00 AM   \n",
       "2                              11646166    JC213529  09/01/2018 12:01:00 AM   \n",
       "3                              10224740    HY411595  09/05/2015 12:45:00 PM   \n",
       "4                              10224741    HY411610  09/05/2015 01:00:00 PM   \n",
       "...                                 ...         ...                     ...   \n",
       "4071165                         5789137    HN594889  09/17/2007 06:00:00 AM   \n",
       "4071166                  \"error\" : true         NaN                     NaN   \n",
       "4071167    \"message\" : \"Internal error\"         NaN                     NaN   \n",
       "4071168                  \"status\" : 500         NaN                     NaN   \n",
       "4071169                               }         NaN                     NaN   \n",
       "\n",
       "                         Block  IUCR Primary Type              Description  \\\n",
       "0              043XX S WOOD ST  0486      BATTERY  DOMESTIC BATTERY SIMPLE   \n",
       "1          008XX N CENTRAL AVE  0870        THEFT           POCKET-PICKING   \n",
       "2        082XX S INGLESIDE AVE  0810        THEFT                OVER $500   \n",
       "3            035XX W BARRY AVE  2023    NARCOTICS    POSS: HEROIN(BRN/TAN)   \n",
       "4          0000X N LARAMIE AVE  0560      ASSAULT                   SIMPLE   \n",
       "...                        ...   ...          ...                      ...   \n",
       "4071165       100XX W OHARE ST  0810        THEFT                OVER $500   \n",
       "4071166                    NaN   NaN          NaN                      NaN   \n",
       "4071167                    NaN   NaN          NaN                      NaN   \n",
       "4071168                    NaN   NaN          NaN                      NaN   \n",
       "4071169                    NaN   NaN          NaN                      NaN   \n",
       "\n",
       "        Location Description Arrest Domestic  ...  Ward  Community Area  \\\n",
       "0                  RESIDENCE  False     True  ...  12.0            61.0   \n",
       "1                    CTA BUS  False    False  ...  29.0            25.0   \n",
       "2                  RESIDENCE  False     True  ...   8.0            44.0   \n",
       "3                   SIDEWALK   True    False  ...  35.0            21.0   \n",
       "4                  APARTMENT  False     True  ...  28.0            25.0   \n",
       "...                      ...    ...      ...  ...   ...             ...   \n",
       "4071165     AIRPORT/AIRCRAFT  False    False  ...  41.0            76.0   \n",
       "4071166                  NaN    NaN      NaN  ...   NaN             NaN   \n",
       "4071167                  NaN    NaN      NaN  ...   NaN             NaN   \n",
       "4071168                  NaN    NaN      NaN  ...   NaN             NaN   \n",
       "4071169                  NaN    NaN      NaN  ...   NaN             NaN   \n",
       "\n",
       "         FBI Code  X Coordinate Y Coordinate    Year              Updated On  \\\n",
       "0             08B     1165074.0    1875917.0  2015.0  02/10/2018 03:50:01 PM   \n",
       "1              06     1138875.0    1904869.0  2015.0  02/10/2018 03:50:01 PM   \n",
       "2              06           NaN          NaN  2018.0  04/06/2019 04:04:43 PM   \n",
       "3              18     1152037.0    1920384.0  2015.0  02/10/2018 03:50:01 PM   \n",
       "4             08A     1141706.0    1900086.0  2015.0  02/10/2018 03:50:01 PM   \n",
       "...           ...           ...          ...     ...                     ...   \n",
       "4071165        06     1100658.0    1934241.0  2007.0                02/28/2{   \n",
       "4071166       NaN           NaN          NaN     NaN                     NaN   \n",
       "4071167       NaN           NaN          NaN     NaN                     NaN   \n",
       "4071168       NaN           NaN          NaN     NaN                     NaN   \n",
       "4071169       NaN           NaN          NaN     NaN                     NaN   \n",
       "\n",
       "          Latitude  Longitude                       Location  \n",
       "0        41.815117 -87.670000  (41.815117282, -87.669999562)  \n",
       "1        41.895080 -87.765400  (41.895080471, -87.765400451)  \n",
       "2              NaN        NaN                            NaN  \n",
       "3        41.937406 -87.716650  (41.937405765, -87.716649687)  \n",
       "4        41.881903 -87.755121  (41.881903443, -87.755121152)  \n",
       "...            ...        ...                            ...  \n",
       "4071165        NaN        NaN                            NaN  \n",
       "4071166        NaN        NaN                            NaN  \n",
       "4071167        NaN        NaN                            NaN  \n",
       "4071168        NaN        NaN                            NaN  \n",
       "4071169        NaN        NaN                            NaN  \n",
       "\n",
       "[4071170 rows x 22 columns]"
      ]
     },
     "execution_count": 193,
     "metadata": {},
     "output_type": "execute_result"
    }
   ],
   "source": [
    "pd.read_csv('chicago_crime_data.csv', low_memory=False)"
   ]
  },
  {
   "cell_type": "code",
   "execution_count": 194,
   "id": "b3a1f13e",
   "metadata": {},
   "outputs": [],
   "source": [
    "from pyspark.sql import SparkSession\n"
   ]
  },
  {
   "cell_type": "code",
   "execution_count": 195,
   "id": "2aa97b8a",
   "metadata": {},
   "outputs": [],
   "source": [
    "def crime_activity_based_on_location(df, location):\n",
    "    \"\"\"\n",
    "    This function returns the criminal activity based on location\n",
    "    Args:\n",
    "        df: Spark DataFrame\n",
    "        location: Location Description\n",
    "    Returns:\n",
    "        Spark DataFrame\n",
    "    \"\"\"\n",
    "    return df.filter(df[\"Location Description\"]==location).groupBy(\"Primary Type\").count().orderBy('count', ascending=False)\n"
   ]
  },
  {
   "cell_type": "code",
   "execution_count": 196,
   "id": "8ac34672",
   "metadata": {},
   "outputs": [],
   "source": [
    "def crime_count(df):\n",
    "    \"\"\"\n",
    "    This function returns the number of crimes in each category\n",
    "    Args:\n",
    "        df: Spark DataFrame\n",
    "    Returns:\n",
    "        Spark DataFrame\n",
    "    \"\"\"\n",
    "    return df.groupBy(\"Primary Type\").count().orderBy('count', ascending=False)"
   ]
  },
  {
   "cell_type": "code",
   "execution_count": 197,
   "id": "e9814cfa",
   "metadata": {},
   "outputs": [],
   "source": [
    "# Function where when IUCR is passed, it returns the description of the crime\n",
    "def crime_description(df, iucr):\n",
    "    \"\"\"\n",
    "    This function returns the description of the crime based on IUCR\n",
    "    Args:\n",
    "        df: Spark DataFrame\n",
    "        iucr: IUCR\n",
    "    Returns:\n",
    "        Spark DataFrame\n",
    "    \"\"\"\n",
    "    return df.filter(df[\"IUCR\"]==iucr).select(\"Primary Type\", \"Description\").distinct()"
   ]
  },
  {
   "cell_type": "code",
   "execution_count": 198,
   "id": "bb106782",
   "metadata": {},
   "outputs": [],
   "source": [
    "# Function where when I pass the IUCR code, it returns the percentage of the crime in the dataset\n",
    "def crime_percentage(df, iucr):\n",
    "    \"\"\"\n",
    "    This function returns the percentage of the crime in the dataset based on IUCR\n",
    "    Args:\n",
    "        df: Spark DataFrame\n",
    "        iucr: IUCR\n",
    "    Returns:\n",
    "        float\n",
    "    \"\"\"\n",
    "    return df.filter(df[\"IUCR\"]==iucr).count()/df.count()*100"
   ]
  },
  {
   "cell_type": "code",
   "execution_count": 199,
   "id": "0afb9d61",
   "metadata": {},
   "outputs": [],
   "source": [
    "# create a data frame where first colum is crime name, 2nd column is crime in year1 and 3rd column is crime in year2\n",
    "def compare_crimes(df, year1, year2):\n",
    "    \"\"\"\n",
    "    This function returns the number of crimes in each category in year1 and year2\n",
    "    Args:\n",
    "        df: Spark DataFrame\n",
    "        year1: Year\n",
    "        year2: Year\n",
    "    Returns:\n",
    "        Spark DataFrame\n",
    "    \"\"\"\n",
    "    df_year1 = df.filter(df[\"Year\"]==year1).groupBy(\"Primary Type\").count().orderBy('count', ascending=False)\n",
    "    df_year2 = df.filter(df[\"Year\"]==year2).groupBy(\"Primary Type\").count().orderBy('count', ascending=False)\n",
    "    df_year1 = df_year1.withColumnRenamed(\"count\", str(year1))\n",
    "    df_year2 = df_year2.withColumnRenamed(\"count\", str(year2))\n",
    "    df_year1 = df_year1.withColumnRenamed(\"Primary Type\", \"Primary Type1\")\n",
    "    df_year2 = df_year2.withColumnRenamed(\"Primary Type\", \"Primary Type2\")\n",
    "    df_year1 = df_year1.withColumn(\"Primary Type\", df_year1[\"Primary Type1\"])\n",
    "    df_year2 = df_year2.withColumn(\"Primary Type\", df_year2[\"Primary Type2\"])\n",
    "    df_year1 = df_year1.drop(\"Primary Type1\")\n",
    "    df_year2 = df_year2.drop(\"Primary Type2\")\n",
    "    df_year1 = df_year1.join(df_year2, on=\"Primary Type\", how=\"outer\")\n",
    "    return df_year1\n",
    "  "
   ]
  },
  {
   "cell_type": "code",
   "execution_count": 200,
   "id": "66be5844",
   "metadata": {},
   "outputs": [],
   "source": [
    "def most_happening_crime(df, year):\n",
    "    \"\"\"\n",
    "    This function returns the most happening crime based on IUCR code in a year\n",
    "    Args:\n",
    "        df: Spark DataFrame\n",
    "        year: Year\n",
    "    Returns:\n",
    "        Spark DataFrame\n",
    "    \"\"\"\n",
    "    return df.filter(df[\"Year\"]==year).groupBy(\"Primary Type\").count().orderBy('count', ascending=False)"
   ]
  },
  {
   "cell_type": "code",
   "execution_count": null,
   "id": "8be292d7",
   "metadata": {},
   "outputs": [],
   "source": [
    "# total number of crimes in Chicago\n",
    "def total_crimes(df):\n",
    "    \"\"\"\n",
    "    This function returns the total number of crimes in Chicago\n",
    "    Args:\n",
    "        df: Spark DataFrame\n",
    "    Returns:\n",
    "        Spark DataFrame\n",
    "    \"\"\"\n",
    "    return df.count()"
   ]
  },
  {
   "cell_type": "code",
   "execution_count": 201,
   "id": "b7c2d42e",
   "metadata": {},
   "outputs": [],
   "source": [
    "def count_crimes_in_block(df, crime, block):\n",
    "    \"\"\"\n",
    "    This function returns the count of crimes in a block\n",
    "    Args:\n",
    "        df: Spark DataFrame\n",
    "        crime: Crime\n",
    "        block: Block\n",
    "    Returns:\n",
    "        Spark DataFrame\n",
    "    \"\"\"\n",
    "    return df.filter(df[\"Primary Type\"]==crime).filter(df[\"Block\"]==block).groupBy(\"Primary Type\").count().orderBy('count', ascending=False)"
   ]
  },
  {
   "cell_type": "code",
   "execution_count": null,
   "id": "fbcaed5d",
   "metadata": {},
   "outputs": [
    {
     "name": "stderr",
     "output_type": "stream",
     "text": [
      "                                                                                \r"
     ]
    }
   ],
   "source": [
    "import datetime\n",
    "def convert_year(year):\n",
    "    \"\"\"\n",
    "    This function converts the year from bigint to timestamp\n",
    "    Args:\n",
    "        year: Year\n",
    "    Returns:\n",
    "        year: Year\n",
    "    \"\"\"\n",
    "    return datetime.datetime(year, 1, 1)\n",
    "# convert the year from bigint to timestamp\n",
    "dataframe_crime_year_by_year=crime_year_by_year(df_pyspark)\n",
    "dataframe_crime_year_by_year=dataframe_crime_year_by_year.withColumn(\"Year\", dataframe_crime_year_by_year[\"Year\"].cast(\"timestamp\"))\n",
    "dataframe_crime_year_by_year.write.csv('crime_year_by_year.csv', header='True')\n"
   ]
  },
  {
   "cell_type": "code",
   "execution_count": 205,
   "id": "bdfaa026",
   "metadata": {},
   "outputs": [],
   "source": [
    "def common_crimes_in_block(df, crime):\n",
    "    \"\"\"\n",
    "    This function returns the common crimes in a block\n",
    "    Args:\n",
    "        df: Spark DataFrame\n",
    "        crime: Crime\n",
    "    Returns:\n",
    "        Spark DataFrame\n",
    "    \"\"\"\n",
    "    return df.filter(df[\"Primary Type\"]==crime).groupBy(\"Block\").count().orderBy('count', ascending=False)"
   ]
  },
  {
   "cell_type": "code",
   "execution_count": null,
   "id": "91926e1a",
   "metadata": {},
   "outputs": [],
   "source": [
    "# Crimes on each day \n",
    "def crime_on_each_day(df):\n",
    "    \"\"\"\n",
    "    This function returns the number of crimes on each day\n",
    "    Args:\n",
    "        df: Spark DataFrame\n",
    "    Returns:\n",
    "        Spark DataFrame\n",
    "    \"\"\"\n",
    "    return df.groupBy(\"Date\").count().orderBy('count', ascending=False)\n"
   ]
  },
  {
   "cell_type": "code",
   "execution_count": 206,
   "id": "005b6c41",
   "metadata": {},
   "outputs": [],
   "source": [
    "def most_crimes_occuring_block(df):\n",
    "  \"\"\"\n",
    "  This function returns the most crimes occuring block in Chicago\n",
    "  Args:\n",
    "      df: Spark DataFrame\n",
    "  Returns:\n",
    "      Spark DataFrame\n",
    "  \"\"\"\n",
    "  return df.groupBy(\"Block\").count().orderBy('count', ascending=False)"
   ]
  },
  {
   "cell_type": "code",
   "execution_count": 207,
   "id": "ead49a6f",
   "metadata": {},
   "outputs": [],
   "source": [
    "def crime_year_by_year(df):\n",
    "  \"\"\"\n",
    "  This function returns the year with the highest crime\n",
    "  Args:\n",
    "      df: Spark DataFrame\n",
    "  Returns:\n",
    "      Spark DataFrame\n",
    "  \"\"\"\n",
    "  return df.groupBy(\"Year\").count().orderBy('count', ascending=False)\n",
    "  "
   ]
  },
  {
   "cell_type": "code",
   "execution_count": 243,
   "id": "4530679a",
   "metadata": {},
   "outputs": [],
   "source": [
    "def crime_location(df, crime):\n",
    "    \"\"\"\n",
    "    This function returns the latitude and longitude of the crime that happened the most limit it to top 20\n",
    "    Args:\n",
    "        df: Spark DataFrame\n",
    "        crime: Crime\n",
    "    Returns:\n",
    "        Spark DataFrame\n",
    "    \"\"\"\n",
    "    return df.filter(df[\"Primary Type\"]==crime).groupBy(\"Latitude\", \"Longitude\").count().orderBy('count', ascending=False).limit(20)"
   ]
  },
  {
   "cell_type": "code",
   "execution_count": 209,
   "id": "837e92c1",
   "metadata": {},
   "outputs": [],
   "source": [
    "# time at which particular crime is most likely to happen\n",
    "def crime_time(df, crime):\n",
    "    \"\"\"\n",
    "    This function returns the time at which particular crime is most likely to happen\n",
    "    Args:\n",
    "        df: Spark DataFrame\n",
    "        crime: Crime\n",
    "    Returns:\n",
    "        Spark DataFrame\n",
    "    \"\"\"\n",
    "    return df.filter(df[\"Primary Type\"]==crime).groupBy(\"Time\").count().orderBy('count', ascending=False)"
   ]
  },
  {
   "cell_type": "code",
   "execution_count": 210,
   "id": "472f41f7",
   "metadata": {},
   "outputs": [
    {
     "name": "stderr",
     "output_type": "stream",
     "text": [
      "                                                                                \r"
     ]
    },
    {
     "name": "stdout",
     "output_type": "stream",
     "text": [
      "+--------+-----------+--------------------+--------------------+----+------------------+--------------------+--------------------+------+--------+----+--------+----+--------------+--------+------------+------------+----+--------------------+------------+-------------+--------------------+--------+\n",
      "|      ID|Case Number|                Date|               Block|IUCR|      Primary Type|         Description|Location Description|Arrest|Domestic|Beat|District|Ward|Community Area|FBI Code|X Coordinate|Y Coordinate|Year|          Updated On|    Latitude|    Longitude|            Location|    Time|\n",
      "+--------+-----------+--------------------+--------------------+----+------------------+--------------------+--------------------+------+--------+----+--------+----+--------------+--------+------------+------------+----+--------------------+------------+-------------+--------------------+--------+\n",
      "|10224738|   HY411648|09/05/2015 01:30:...|     043XX S WOOD ST|0486|           BATTERY|DOMESTIC BATTERY ...|           RESIDENCE| false|    true|0924|     009|  12|            61|     08B|     1165074|     1875917|2015|02/10/2018 03:50:...|41.815117282|-87.669999562|(41.815117282, -8...|13:30:00|\n",
      "|10224739|   HY411615|09/04/2015 11:30:...| 008XX N CENTRAL AVE|0870|             THEFT|      POCKET-PICKING|             CTA BUS| false|   false|1511|     015|  29|            25|      06|     1138875|     1904869|2015|02/10/2018 03:50:...|41.895080471|-87.765400451|(41.895080471, -8...|11:30:00|\n",
      "|11646166|   JC213529|09/01/2018 12:01:...|082XX S INGLESIDE...|0810|             THEFT|           OVER $500|           RESIDENCE| false|    true|0631|     006|   8|            44|      06|        null|        null|2018|04/06/2019 04:04:...|        null|         null|                null|00:01:00|\n",
      "|10224740|   HY411595|09/05/2015 12:45:...|   035XX W BARRY AVE|2023|         NARCOTICS|POSS: HEROIN(BRN/...|            SIDEWALK|  true|   false|1412|     014|  35|            21|      18|     1152037|     1920384|2015|02/10/2018 03:50:...|41.937405765|-87.716649687|(41.937405765, -8...|12:45:00|\n",
      "|10224741|   HY411610|09/05/2015 01:00:...| 0000X N LARAMIE AVE|0560|           ASSAULT|              SIMPLE|           APARTMENT| false|    true|1522|     015|  28|            25|     08A|     1141706|     1900086|2015|02/10/2018 03:50:...|41.881903443|-87.755121152|(41.881903443, -8...|13:00:00|\n",
      "|10224742|   HY411435|09/05/2015 10:55:...| 082XX S LOOMIS BLVD|0610|          BURGLARY|      FORCIBLE ENTRY|           RESIDENCE| false|   false|0614|     006|  21|            71|      05|     1168430|     1850165|2015|02/10/2018 03:50:...|41.744378879|-87.658430635|(41.744378879, -8...|10:55:00|\n",
      "|10224743|   HY411629|09/04/2015 06:00:...|021XX W CHURCHILL ST|0620|          BURGLARY|      UNLAWFUL ENTRY|    RESIDENCE-GARAGE| false|   false|1434|     014|  32|            24|      05|     1161628|     1912157|2015|02/10/2018 03:50:...|41.914635603|-87.681630909|(41.914635603, -8...|18:00:00|\n",
      "|10224744|   HY411605|09/05/2015 01:00:...|   025XX W CERMAK RD|0860|             THEFT|        RETAIL THEFT|  GROCERY FOOD STORE|  true|   false|1034|     010|  25|            31|      06|     1159734|     1889313|2015|09/17/2015 11:37:...|41.851988885|-87.689219118|(41.851988885, -8...|13:00:00|\n",
      "|10224745|   HY411654|09/05/2015 11:30:...|031XX W WASHINGTO...|0320|           ROBBERY|STRONGARM - NO WE...|              STREET| false|    true|1222|     012|  27|            27|      03|     1155536|     1900515|2015|02/10/2018 03:50:...| 41.88281374|-87.704325717|(41.88281374, -87...|11:30:00|\n",
      "|11645836|   JC212333|05/01/2016 12:25:...| 055XX S ROCKWELL ST|1153|DECEPTIVE PRACTICE|FINANCIAL IDENTIT...|                null| false|   false|0824|     008|  15|            63|      11|        null|        null|2016|04/06/2019 04:04:...|        null|         null|                null|00:25:00|\n",
      "|10224746|   HY411662|09/05/2015 02:00:...|  071XX S PULASKI RD|0820|             THEFT|      $500 AND UNDER|PARKING LOT/GARAG...| false|   false|0833|     008|  13|            65|      06|     1150938|     1857056|2015|02/10/2018 03:50:...|41.763647552|-87.722344693|(41.763647552, -8...|14:00:00|\n",
      "|10224749|   HY411626|09/05/2015 11:00:...|052XX N MILWAUKEE...|0460|           BATTERY|              SIMPLE|  SMALL RETAIL STORE| false|   false|1623|     016|  45|            11|     08B|     1137969|     1934340|2015|02/10/2018 03:50:...|41.975968415|-87.768014257|(41.975968415, -8...|11:00:00|\n",
      "|10224750|   HY411632|09/05/2015 03:00:...|    0000X W 103RD ST|2820|     OTHER OFFENSE|    TELEPHONE THREAT|           APARTMENT| false|    true|0512|     005|  34|            49|      26|     1177871|     1836676|2015|02/10/2018 03:50:...|41.707154919|-87.624244993|(41.707154919, -8...|03:00:00|\n",
      "|10224751|   HY411566|09/05/2015 12:50:...|     013XX E 47TH ST|0486|           BATTERY|DOMESTIC BATTERY ...|              STREET| false|    true|0222|     002|   4|            39|     08B|     1185907|     1874105|2015|02/10/2018 03:50:...|41.809678314|-87.593638934|(41.809678314, -8...|12:50:00|\n",
      "|10224752|   HY411601|09/03/2015 01:00:...| 020XX W SCHILLER ST|0810|             THEFT|           OVER $500|              STREET| false|   false|1424|     014|   1|            24|      06|     1162574|     1909428|2015|02/10/2018 03:50:...|41.907127255|-87.678232016|(41.907127255, -8...|13:00:00|\n",
      "|10224753|   HY411489|09/05/2015 11:45:...|  080XX S JUSTINE ST|0497|           BATTERY|AGGRAVATED DOMEST...|           APARTMENT| false|   false|0612|     006|  21|            71|     04B|     1167400|     1851512|2015|02/10/2018 03:50:...|41.748097343|-87.662166183|(41.748097343, -8...|11:45:00|\n",
      "|10224754|   HY411656|09/05/2015 01:30:...|007XX N LEAMINGTO...|1320|   CRIMINAL DAMAGE|          TO VEHICLE|              STREET| false|   false|1531|     015|  28|            25|      14|     1141889|     1904448|2015|02/10/2018 03:50:...|41.893869916|-87.754341096|(41.893869916, -8...|13:30:00|\n",
      "|10224756|   HY410094|07/08/2015 12:00:...|103XX S TORRENCE AVE|0620|          BURGLARY|      UNLAWFUL ENTRY|               OTHER| false|   false|0434|     004|  10|            51|      05|     1195508|     1836950|2015|02/10/2018 03:50:...|41.707490122|-87.559650325|(41.707490122, -8...|00:00:00|\n",
      "|10224757|   HY411388|09/05/2015 09:55:...|  088XX S PAULINA ST|0610|          BURGLARY|      FORCIBLE ENTRY|           RESIDENCE|  true|   false|2221|     022|  21|            71|      05|     1166554|     1846067|2015|02/10/2018 03:50:...|41.733173536|-87.665421067|(41.733173536, -8...|09:55:00|\n",
      "|10224758|   HY411568|09/05/2015 12:35:...|    059XX W GRACE ST|0486|           BATTERY|DOMESTIC BATTERY ...|              STREET| false|    true|1633|     016|  38|            15|     08B|     1136014|     1924656|2015|02/10/2018 03:50:...|41.949429769|-87.775435529|(41.949429769, -8...|12:35:00|\n",
      "+--------+-----------+--------------------+--------------------+----+------------------+--------------------+--------------------+------+--------+----+--------+----+--------------+--------+------------+------------+----+--------------------+------------+-------------+--------------------+--------+\n",
      "only showing top 20 rows\n",
      "\n"
     ]
    },
    {
     "name": "stderr",
     "output_type": "stream",
     "text": [
      "[Stage 652:>                                                        (0 + 1) / 1]\r"
     ]
    },
    {
     "name": "stdout",
     "output_type": "stream",
     "text": [
      "+--------+-----------+----------+--------------------+----+------------------+--------------------+--------------------+------+--------+----+--------+----+--------------+--------+------------+------------+----+--------------------+------------+-------------+--------------------+--------+\n",
      "|      ID|Case Number|      Date|               Block|IUCR|      Primary Type|         Description|Location Description|Arrest|Domestic|Beat|District|Ward|Community Area|FBI Code|X Coordinate|Y Coordinate|Year|          Updated On|    Latitude|    Longitude|            Location|    Time|\n",
      "+--------+-----------+----------+--------------------+----+------------------+--------------------+--------------------+------+--------+----+--------+----+--------------+--------+------------+------------+----+--------------------+------------+-------------+--------------------+--------+\n",
      "|10224738|   HY411648|09/05/2015|     043XX S WOOD ST|0486|           BATTERY|DOMESTIC BATTERY ...|           RESIDENCE| false|    true|0924|     009|  12|            61|     08B|     1165074|     1875917|2015|02/10/2018 03:50:...|41.815117282|-87.669999562|(41.815117282, -8...|13:30:00|\n",
      "|10224739|   HY411615|09/04/2015| 008XX N CENTRAL AVE|0870|             THEFT|      POCKET-PICKING|             CTA BUS| false|   false|1511|     015|  29|            25|      06|     1138875|     1904869|2015|02/10/2018 03:50:...|41.895080471|-87.765400451|(41.895080471, -8...|11:30:00|\n",
      "|11646166|   JC213529|09/01/2018|082XX S INGLESIDE...|0810|             THEFT|           OVER $500|           RESIDENCE| false|    true|0631|     006|   8|            44|      06|        null|        null|2018|04/06/2019 04:04:...|        null|         null|                null|00:01:00|\n",
      "|10224740|   HY411595|09/05/2015|   035XX W BARRY AVE|2023|         NARCOTICS|POSS: HEROIN(BRN/...|            SIDEWALK|  true|   false|1412|     014|  35|            21|      18|     1152037|     1920384|2015|02/10/2018 03:50:...|41.937405765|-87.716649687|(41.937405765, -8...|12:45:00|\n",
      "|10224741|   HY411610|09/05/2015| 0000X N LARAMIE AVE|0560|           ASSAULT|              SIMPLE|           APARTMENT| false|    true|1522|     015|  28|            25|     08A|     1141706|     1900086|2015|02/10/2018 03:50:...|41.881903443|-87.755121152|(41.881903443, -8...|13:00:00|\n",
      "|10224742|   HY411435|09/05/2015| 082XX S LOOMIS BLVD|0610|          BURGLARY|      FORCIBLE ENTRY|           RESIDENCE| false|   false|0614|     006|  21|            71|      05|     1168430|     1850165|2015|02/10/2018 03:50:...|41.744378879|-87.658430635|(41.744378879, -8...|10:55:00|\n",
      "|10224743|   HY411629|09/04/2015|021XX W CHURCHILL ST|0620|          BURGLARY|      UNLAWFUL ENTRY|    RESIDENCE-GARAGE| false|   false|1434|     014|  32|            24|      05|     1161628|     1912157|2015|02/10/2018 03:50:...|41.914635603|-87.681630909|(41.914635603, -8...|18:00:00|\n",
      "|10224744|   HY411605|09/05/2015|   025XX W CERMAK RD|0860|             THEFT|        RETAIL THEFT|  GROCERY FOOD STORE|  true|   false|1034|     010|  25|            31|      06|     1159734|     1889313|2015|09/17/2015 11:37:...|41.851988885|-87.689219118|(41.851988885, -8...|13:00:00|\n",
      "|10224745|   HY411654|09/05/2015|031XX W WASHINGTO...|0320|           ROBBERY|STRONGARM - NO WE...|              STREET| false|    true|1222|     012|  27|            27|      03|     1155536|     1900515|2015|02/10/2018 03:50:...| 41.88281374|-87.704325717|(41.88281374, -87...|11:30:00|\n",
      "|11645836|   JC212333|05/01/2016| 055XX S ROCKWELL ST|1153|DECEPTIVE PRACTICE|FINANCIAL IDENTIT...|                null| false|   false|0824|     008|  15|            63|      11|        null|        null|2016|04/06/2019 04:04:...|        null|         null|                null|00:25:00|\n",
      "|10224746|   HY411662|09/05/2015|  071XX S PULASKI RD|0820|             THEFT|      $500 AND UNDER|PARKING LOT/GARAG...| false|   false|0833|     008|  13|            65|      06|     1150938|     1857056|2015|02/10/2018 03:50:...|41.763647552|-87.722344693|(41.763647552, -8...|14:00:00|\n",
      "|10224749|   HY411626|09/05/2015|052XX N MILWAUKEE...|0460|           BATTERY|              SIMPLE|  SMALL RETAIL STORE| false|   false|1623|     016|  45|            11|     08B|     1137969|     1934340|2015|02/10/2018 03:50:...|41.975968415|-87.768014257|(41.975968415, -8...|11:00:00|\n",
      "|10224750|   HY411632|09/05/2015|    0000X W 103RD ST|2820|     OTHER OFFENSE|    TELEPHONE THREAT|           APARTMENT| false|    true|0512|     005|  34|            49|      26|     1177871|     1836676|2015|02/10/2018 03:50:...|41.707154919|-87.624244993|(41.707154919, -8...|03:00:00|\n",
      "|10224751|   HY411566|09/05/2015|     013XX E 47TH ST|0486|           BATTERY|DOMESTIC BATTERY ...|              STREET| false|    true|0222|     002|   4|            39|     08B|     1185907|     1874105|2015|02/10/2018 03:50:...|41.809678314|-87.593638934|(41.809678314, -8...|12:50:00|\n",
      "|10224752|   HY411601|09/03/2015| 020XX W SCHILLER ST|0810|             THEFT|           OVER $500|              STREET| false|   false|1424|     014|   1|            24|      06|     1162574|     1909428|2015|02/10/2018 03:50:...|41.907127255|-87.678232016|(41.907127255, -8...|13:00:00|\n",
      "|10224753|   HY411489|09/05/2015|  080XX S JUSTINE ST|0497|           BATTERY|AGGRAVATED DOMEST...|           APARTMENT| false|   false|0612|     006|  21|            71|     04B|     1167400|     1851512|2015|02/10/2018 03:50:...|41.748097343|-87.662166183|(41.748097343, -8...|11:45:00|\n",
      "|10224754|   HY411656|09/05/2015|007XX N LEAMINGTO...|1320|   CRIMINAL DAMAGE|          TO VEHICLE|              STREET| false|   false|1531|     015|  28|            25|      14|     1141889|     1904448|2015|02/10/2018 03:50:...|41.893869916|-87.754341096|(41.893869916, -8...|13:30:00|\n",
      "|10224756|   HY410094|07/08/2015|103XX S TORRENCE AVE|0620|          BURGLARY|      UNLAWFUL ENTRY|               OTHER| false|   false|0434|     004|  10|            51|      05|     1195508|     1836950|2015|02/10/2018 03:50:...|41.707490122|-87.559650325|(41.707490122, -8...|00:00:00|\n",
      "|10224757|   HY411388|09/05/2015|  088XX S PAULINA ST|0610|          BURGLARY|      FORCIBLE ENTRY|           RESIDENCE|  true|   false|2221|     022|  21|            71|      05|     1166554|     1846067|2015|02/10/2018 03:50:...|41.733173536|-87.665421067|(41.733173536, -8...|09:55:00|\n",
      "|10224758|   HY411568|09/05/2015|    059XX W GRACE ST|0486|           BATTERY|DOMESTIC BATTERY ...|              STREET| false|    true|1633|     016|  38|            15|     08B|     1136014|     1924656|2015|02/10/2018 03:50:...|41.949429769|-87.775435529|(41.949429769, -8...|12:35:00|\n",
      "+--------+-----------+----------+--------------------+----+------------------+--------------------+--------------------+------+--------+----+--------+----+--------------+--------+------------+------------+----+--------------------+------------+-------------+--------------------+--------+\n",
      "only showing top 20 rows\n",
      "\n"
     ]
    },
    {
     "name": "stderr",
     "output_type": "stream",
     "text": [
      "                                                                                \r"
     ]
    }
   ],
   "source": [
    "from datetime import datetime\n",
    "def convert_time(time):\n",
    "    \"\"\"\n",
    "    This function converts the time from 12 hour format to 24 hour format\n",
    "    Args:\n",
    "        time: Time\n",
    "    Returns:\n",
    "        time: Time\n",
    "    \"\"\"\n",
    "    input_format = '%m/%d/%Y %I:%M:%S %p'\n",
    "    output_format = '%H:%M:%S'\n",
    "    time = datetime.strptime(time, input_format)\n",
    "    time = time.strftime(output_format)\n",
    "    return time\n",
    "\n",
    "time_udf = f.udf(lambda Time:convert_time(Time))\n",
    "df_pyspark_date = df_pyspark.withColumn(\"Time\", time_udf(df_pyspark[\"Date\"]))\n",
    "df_pyspark_date.show()\n",
    "\n",
    "# Extract date from Date column\n",
    "def extract_date(date):\n",
    "    \"\"\"\n",
    "    This function extracts the date from Date column\n",
    "    Args:\n",
    "        date: Date\n",
    "    Returns:\n",
    "        date: Date\n",
    "    \"\"\"\n",
    "    input_format = '%m/%d/%Y %I:%M:%S %p'\n",
    "    output_format = '%m/%d/%Y'\n",
    "    date = datetime.strptime(date, input_format)\n",
    "    date = date.strftime(output_format)\n",
    "    return date\n",
    "\n",
    "date_udf = f.udf(lambda Date:extract_date(Date))\n",
    "df_pyspark_date = df_pyspark_date.withColumn(\"Date\", date_udf(df_pyspark_date[\"Date\"]))\n",
    "df_pyspark_date.show()\n"
   ]
  },
  {
   "cell_type": "code",
   "execution_count": null,
   "id": "4de2318a",
   "metadata": {},
   "outputs": [],
   "source": [
    "# Reduction in crime in a block from 2002 to 2022\n",
    "def reduction_in_crime(df, block):\n",
    "    \"\"\"\n",
    "    This function returns the reduction in crime in a block from 2002 to 2022\n",
    "    Args:\n",
    "        df: Spark DataFrame\n",
    "        block: Block\n",
    "    Returns:\n",
    "        Spark DataFrame\n",
    "    \"\"\"\n",
    "    return df.filter(df[\"Block\"]==block).groupBy(\"Year\").count().orderBy('Year', ascending=True)"
   ]
  },
  {
   "cell_type": "code",
   "execution_count": null,
   "id": "19c45a1e",
   "metadata": {},
   "outputs": [],
   "source": [
    "def total_arrest(df):\n",
    "    \"\"\"\n",
    "    This function returns the total arrest in every year\n",
    "    Args:\n",
    "        df: Spark DataFrame\n",
    "    Returns:\n",
    "        Spark DataFrame\n",
    "    \"\"\"\n",
    "    return df.filter(df[\"Arrest\"]==True).groupBy(\"Year\").count().orderBy('Year', ascending=True)"
   ]
  },
  {
   "cell_type": "code",
   "execution_count": null,
   "id": "189703ee",
   "metadata": {},
   "outputs": [],
   "source": [
    "def percentage_arrest(totalCrimes, totalArrest):\n",
    "    \"\"\"\n",
    "    This function returns the percentage of arrest for a particular crime\n",
    "    Args:\n",
    "        totalCrimes: Total number of crimes\n",
    "        totalArrest: Total number of arrests\n",
    "    Returns:\n",
    "        percentage: Percentage of arrest\n",
    "    \"\"\"\n",
    "    percentage = (totalArrest/totalCrimes)*100\n",
    "    return percentage"
   ]
  },
  {
   "cell_type": "code",
   "execution_count": null,
   "id": "8b9e8ae4",
   "metadata": {},
   "outputs": [],
   "source": [
    "def most_common_crime_in_block(df, block):\n",
    "    \"\"\"\n",
    "    This function returns the most common crime in a particular block\n",
    "    Args:\n",
    "        df: Spark DataFrame\n",
    "        block: Block\n",
    "    Returns:\n",
    "        Spark DataFrame\n",
    "    \"\"\"\n",
    "    return df.filter(df[\"Block\"]==block).groupBy(\"Primary Type\").count().orderBy('count', ascending=False)"
   ]
  },
  {
   "cell_type": "code",
   "execution_count": null,
   "id": "bd351a52",
   "metadata": {},
   "outputs": [],
   "source": [
    "def crime_percentage_arrest(df, totalCrimes, totalArrest):\n",
    "    \"\"\"\n",
    "    This function returns the percentage of arrest for a particular crime\n",
    "    Args:\n",
    "        df: Spark DataFrame\n",
    "        totalCrimes: Total number of crimes\n",
    "        totalArrest: Total number of arrests\n",
    "    Returns:\n",
    "        Spark DataFrame\n",
    "    \"\"\"\n",
    "    return df.withColumn(\"Percentage Arrest\", percentage_arrest(totalCrimes, totalArrest))\n",
    "    "
   ]
  },
  {
   "cell_type": "code",
   "execution_count": null,
   "id": "585b6afd",
   "metadata": {},
   "outputs": [
    {
     "name": "stdout",
     "output_type": "stream",
     "text": [
      "23/02/15 11:42:03 WARN Utils: Your hostname, RACs-MacBook-Pro.local resolves to a loopback address: 127.0.0.1; using 10.190.229.59 instead (on interface en0)\n",
      "23/02/15 11:42:03 WARN Utils: Set SPARK_LOCAL_IP if you need to bind to another address\n"
     ]
    },
    {
     "name": "stderr",
     "output_type": "stream",
     "text": [
      "Setting default log level to \"WARN\".\n",
      "To adjust logging level use sc.setLogLevel(newLevel). For SparkR, use setLogLevel(newLevel).\n"
     ]
    },
    {
     "name": "stdout",
     "output_type": "stream",
     "text": [
      "23/02/15 11:42:04 WARN NativeCodeLoader: Unable to load native-hadoop library for your platform... using builtin-java classes where applicable\n"
     ]
    }
   ],
   "source": [
    "spark= SparkSession.builder.appName('Peoject').getOrCreate()"
   ]
  },
  {
   "cell_type": "code",
   "execution_count": null,
   "id": "c6cc67e1",
   "metadata": {},
   "outputs": [
    {
     "name": "stderr",
     "output_type": "stream",
     "text": [
      "                                                                                \r"
     ]
    }
   ],
   "source": [
    "df_pyspark= spark.read.csv('chicago_crime_data.csv', header='True')"
   ]
  },
  {
   "cell_type": "code",
   "execution_count": null,
   "id": "5f5f49b4",
   "metadata": {},
   "outputs": [
    {
     "name": "stdout",
     "output_type": "stream",
     "text": [
      "+--------+-----------+--------------------+--------------------+----+------------------+--------------------+--------------------+------+--------+----+--------+----+--------------+--------+------------+------------+----+--------------------+------------+-------------+--------------------+\n",
      "|      ID|Case Number|                Date|               Block|IUCR|      Primary Type|         Description|Location Description|Arrest|Domestic|Beat|District|Ward|Community Area|FBI Code|X Coordinate|Y Coordinate|Year|          Updated On|    Latitude|    Longitude|            Location|\n",
      "+--------+-----------+--------------------+--------------------+----+------------------+--------------------+--------------------+------+--------+----+--------+----+--------------+--------+------------+------------+----+--------------------+------------+-------------+--------------------+\n",
      "|10224738|   HY411648|09/05/2015 01:30:...|     043XX S WOOD ST|0486|           BATTERY|DOMESTIC BATTERY ...|           RESIDENCE| false|    true|0924|     009|  12|            61|     08B|     1165074|     1875917|2015|02/10/2018 03:50:...|41.815117282|-87.669999562|(41.815117282, -8...|\n",
      "|10224739|   HY411615|09/04/2015 11:30:...| 008XX N CENTRAL AVE|0870|             THEFT|      POCKET-PICKING|             CTA BUS| false|   false|1511|     015|  29|            25|      06|     1138875|     1904869|2015|02/10/2018 03:50:...|41.895080471|-87.765400451|(41.895080471, -8...|\n",
      "|11646166|   JC213529|09/01/2018 12:01:...|082XX S INGLESIDE...|0810|             THEFT|           OVER $500|           RESIDENCE| false|    true|0631|     006|   8|            44|      06|        null|        null|2018|04/06/2019 04:04:...|        null|         null|                null|\n",
      "|10224740|   HY411595|09/05/2015 12:45:...|   035XX W BARRY AVE|2023|         NARCOTICS|POSS: HEROIN(BRN/...|            SIDEWALK|  true|   false|1412|     014|  35|            21|      18|     1152037|     1920384|2015|02/10/2018 03:50:...|41.937405765|-87.716649687|(41.937405765, -8...|\n",
      "|10224741|   HY411610|09/05/2015 01:00:...| 0000X N LARAMIE AVE|0560|           ASSAULT|              SIMPLE|           APARTMENT| false|    true|1522|     015|  28|            25|     08A|     1141706|     1900086|2015|02/10/2018 03:50:...|41.881903443|-87.755121152|(41.881903443, -8...|\n",
      "|10224742|   HY411435|09/05/2015 10:55:...| 082XX S LOOMIS BLVD|0610|          BURGLARY|      FORCIBLE ENTRY|           RESIDENCE| false|   false|0614|     006|  21|            71|      05|     1168430|     1850165|2015|02/10/2018 03:50:...|41.744378879|-87.658430635|(41.744378879, -8...|\n",
      "|10224743|   HY411629|09/04/2015 06:00:...|021XX W CHURCHILL ST|0620|          BURGLARY|      UNLAWFUL ENTRY|    RESIDENCE-GARAGE| false|   false|1434|     014|  32|            24|      05|     1161628|     1912157|2015|02/10/2018 03:50:...|41.914635603|-87.681630909|(41.914635603, -8...|\n",
      "|10224744|   HY411605|09/05/2015 01:00:...|   025XX W CERMAK RD|0860|             THEFT|        RETAIL THEFT|  GROCERY FOOD STORE|  true|   false|1034|     010|  25|            31|      06|     1159734|     1889313|2015|09/17/2015 11:37:...|41.851988885|-87.689219118|(41.851988885, -8...|\n",
      "|10224745|   HY411654|09/05/2015 11:30:...|031XX W WASHINGTO...|0320|           ROBBERY|STRONGARM - NO WE...|              STREET| false|    true|1222|     012|  27|            27|      03|     1155536|     1900515|2015|02/10/2018 03:50:...| 41.88281374|-87.704325717|(41.88281374, -87...|\n",
      "|11645836|   JC212333|05/01/2016 12:25:...| 055XX S ROCKWELL ST|1153|DECEPTIVE PRACTICE|FINANCIAL IDENTIT...|                null| false|   false|0824|     008|  15|            63|      11|        null|        null|2016|04/06/2019 04:04:...|        null|         null|                null|\n",
      "|10224746|   HY411662|09/05/2015 02:00:...|  071XX S PULASKI RD|0820|             THEFT|      $500 AND UNDER|PARKING LOT/GARAG...| false|   false|0833|     008|  13|            65|      06|     1150938|     1857056|2015|02/10/2018 03:50:...|41.763647552|-87.722344693|(41.763647552, -8...|\n",
      "|10224749|   HY411626|09/05/2015 11:00:...|052XX N MILWAUKEE...|0460|           BATTERY|              SIMPLE|  SMALL RETAIL STORE| false|   false|1623|     016|  45|            11|     08B|     1137969|     1934340|2015|02/10/2018 03:50:...|41.975968415|-87.768014257|(41.975968415, -8...|\n",
      "|10224750|   HY411632|09/05/2015 03:00:...|    0000X W 103RD ST|2820|     OTHER OFFENSE|    TELEPHONE THREAT|           APARTMENT| false|    true|0512|     005|  34|            49|      26|     1177871|     1836676|2015|02/10/2018 03:50:...|41.707154919|-87.624244993|(41.707154919, -8...|\n",
      "|10224751|   HY411566|09/05/2015 12:50:...|     013XX E 47TH ST|0486|           BATTERY|DOMESTIC BATTERY ...|              STREET| false|    true|0222|     002|   4|            39|     08B|     1185907|     1874105|2015|02/10/2018 03:50:...|41.809678314|-87.593638934|(41.809678314, -8...|\n",
      "|10224752|   HY411601|09/03/2015 01:00:...| 020XX W SCHILLER ST|0810|             THEFT|           OVER $500|              STREET| false|   false|1424|     014|   1|            24|      06|     1162574|     1909428|2015|02/10/2018 03:50:...|41.907127255|-87.678232016|(41.907127255, -8...|\n",
      "|10224753|   HY411489|09/05/2015 11:45:...|  080XX S JUSTINE ST|0497|           BATTERY|AGGRAVATED DOMEST...|           APARTMENT| false|   false|0612|     006|  21|            71|     04B|     1167400|     1851512|2015|02/10/2018 03:50:...|41.748097343|-87.662166183|(41.748097343, -8...|\n",
      "|10224754|   HY411656|09/05/2015 01:30:...|007XX N LEAMINGTO...|1320|   CRIMINAL DAMAGE|          TO VEHICLE|              STREET| false|   false|1531|     015|  28|            25|      14|     1141889|     1904448|2015|02/10/2018 03:50:...|41.893869916|-87.754341096|(41.893869916, -8...|\n",
      "|10224756|   HY410094|07/08/2015 12:00:...|103XX S TORRENCE AVE|0620|          BURGLARY|      UNLAWFUL ENTRY|               OTHER| false|   false|0434|     004|  10|            51|      05|     1195508|     1836950|2015|02/10/2018 03:50:...|41.707490122|-87.559650325|(41.707490122, -8...|\n",
      "|10224757|   HY411388|09/05/2015 09:55:...|  088XX S PAULINA ST|0610|          BURGLARY|      FORCIBLE ENTRY|           RESIDENCE|  true|   false|2221|     022|  21|            71|      05|     1166554|     1846067|2015|02/10/2018 03:50:...|41.733173536|-87.665421067|(41.733173536, -8...|\n",
      "|10224758|   HY411568|09/05/2015 12:35:...|    059XX W GRACE ST|0486|           BATTERY|DOMESTIC BATTERY ...|              STREET| false|    true|1633|     016|  38|            15|     08B|     1136014|     1924656|2015|02/10/2018 03:50:...|41.949429769|-87.775435529|(41.949429769, -8...|\n",
      "+--------+-----------+--------------------+--------------------+----+------------------+--------------------+--------------------+------+--------+----+--------+----+--------------+--------+------------+------------+----+--------------------+------------+-------------+--------------------+\n",
      "only showing top 20 rows\n",
      "\n"
     ]
    }
   ],
   "source": [
    "df_pyspark.show()"
   ]
  },
  {
   "cell_type": "code",
   "execution_count": null,
   "id": "ef88f22f",
   "metadata": {},
   "outputs": [
    {
     "data": {
      "text/plain": [
       "DataFrame[ID: string, Case Number: string, Date: string, Block: string, IUCR: string, Primary Type: string, Description: string, Location Description: string, Arrest: string, Domestic: string, Beat: string, District: string, Ward: string, Community Area: string, FBI Code: string, X Coordinate: string, Y Coordinate: string, Year: string, Updated On: string, Latitude: string, Longitude: string, Location: string]"
      ]
     },
     "execution_count": 20,
     "metadata": {},
     "output_type": "execute_result"
    }
   ],
   "source": [
    "spark.read.option('header', 'true').csv('chicago_crime_data.csv')\n"
   ]
  },
  {
   "cell_type": "code",
   "execution_count": null,
   "id": "d8e64e8b",
   "metadata": {},
   "outputs": [
    {
     "name": "stdout",
     "output_type": "stream",
     "text": [
      "root\n",
      " |-- ID: string (nullable = true)\n",
      " |-- Case Number: string (nullable = true)\n",
      " |-- Date: string (nullable = true)\n",
      " |-- Block: string (nullable = true)\n",
      " |-- IUCR: string (nullable = true)\n",
      " |-- Primary Type: string (nullable = true)\n",
      " |-- Description: string (nullable = true)\n",
      " |-- Location Description: string (nullable = true)\n",
      " |-- Arrest: string (nullable = true)\n",
      " |-- Domestic: string (nullable = true)\n",
      " |-- Beat: string (nullable = true)\n",
      " |-- District: string (nullable = true)\n",
      " |-- Ward: string (nullable = true)\n",
      " |-- Community Area: string (nullable = true)\n",
      " |-- FBI Code: string (nullable = true)\n",
      " |-- X Coordinate: string (nullable = true)\n",
      " |-- Y Coordinate: string (nullable = true)\n",
      " |-- Year: string (nullable = true)\n",
      " |-- Updated On: string (nullable = true)\n",
      " |-- Latitude: string (nullable = true)\n",
      " |-- Longitude: string (nullable = true)\n",
      " |-- Location: string (nullable = true)\n",
      "\n"
     ]
    }
   ],
   "source": [
    "df_pyspark.printSchema()"
   ]
  },
  {
   "cell_type": "code",
   "execution_count": null,
   "id": "459851fc",
   "metadata": {},
   "outputs": [
    {
     "name": "stdout",
     "output_type": "stream",
     "text": [
      "+--------+-----------+--------------------+--------------------+----+-------------------+-------------------+--------------------+------+--------+----+--------+----+--------------+--------+------------+------------+----+--------------------+------------+-------------+--------------------+\n",
      "|      ID|Case Number|                Date|               Block|IUCR|       Primary Type|        Description|Location Description|Arrest|Domestic|Beat|District|Ward|Community Area|FBI Code|X Coordinate|Y Coordinate|Year|          Updated On|    Latitude|    Longitude|            Location|\n",
      "+--------+-----------+--------------------+--------------------+----+-------------------+-------------------+--------------------+------+--------+----+--------+----+--------------+--------+------------+------------+----+--------------------+------------+-------------+--------------------+\n",
      "|10224752|   HY411601|09/03/2015 01:00:...| 020XX W SCHILLER ST|0810|              THEFT|          OVER $500|              STREET| false|   false|1424|     014|   1|            24|      06|     1162574|     1909428|2015|02/10/2018 03:50:...|41.907127255|-87.678232016|(41.907127255, -8...|\n",
      "|10225080|   HY412068|09/05/2015 04:20:...|015XX N MILWAUKEE...|1310|    CRIMINAL DAMAGE|        TO PROPERTY|       BAR OR TAVERN| false|   false|1424|     014|   1|            24|      14|     1163046|     1910384|2015|02/10/2018 03:50:...|41.909740682|-87.676471266|(41.909740682, -8...|\n",
      "|10225084|   HY411061|09/05/2015 02:21:...|013XX N MILWAUKEE...|0620|           BURGLARY|     UNLAWFUL ENTRY|          RESTAURANT| false|   false|1424|     014|   1|            24|      05|     1164352|     1909285|2015|02/10/2018 03:50:...|41.906697405|-87.671704723|(41.906697405, -8...|\n",
      "|10225187|   HY412113|09/05/2015 06:00:...| 020XX W LE MOYNE ST|0820|              THEFT|     $500 AND UNDER|              STREET| false|   false|1424|     014|   1|            24|      06|     1162630|     1909836|2015|02/10/2018 03:50:...|41.908245663|-87.678014854|(41.908245663, -8...|\n",
      "|10225271|   HY412398|09/06/2015 12:30:...|015XX N MILWAUKEE...|0820|              THEFT|     $500 AND UNDER|              STREET| false|   false|1424|     014|   1|            24|      06|     1163120|     1910322|2015|02/10/2018 03:50:...|41.909568995|-87.676201167|(41.909568995, -8...|\n",
      "|10225831|   HY413175|09/06/2015 06:00:...|    015XX N BELL AVE|0910|MOTOR VEHICLE THEFT|         AUTOMOBILE|              STREET| false|   false|1424|     014|   1|            24|      07|     1161128|     1910102|2015|02/10/2018 03:50:...|41.909006943|-87.683525037|(41.909006943, -8...|\n",
      "|10226072|   HY413492|09/07/2015 02:10:...|013XX N MILWAUKEE...|0460|            BATTERY|             SIMPLE|            SIDEWALK| false|   false|1424|     014|   1|            24|     08B|     1164309|     1909321|2015|09/17/2015 11:37:...|41.906797102|-87.671861659|(41.906797102, -8...|\n",
      "|10226089|   HY413460|09/06/2015 07:15:...|   020XX W NORTH AVE|0810|              THEFT|          OVER $500|              STREET| false|   false|1424|     014|   1|            24|      06|     1162528|     1910646|2015|02/10/2018 03:50:...|41.910470499|-87.678366829|(41.910470499, -8...|\n",
      "|10226166|   HY409290|09/03/2015 06:10:...|018XX W EVERGREEN...|0810|              THEFT|          OVER $500|              STREET| false|   false|1424|     014|   1|            24|      06|     1163640|     1909539|2015|02/10/2018 03:50:...| 41.90740944|-87.674313013|(41.90740944, -87...|\n",
      "|10226276|   HY413725|09/07/2015 08:00:...|015XX N MILWAUKEE...|0820|              THEFT|     $500 AND UNDER|            SIDEWALK| false|   false|1424|     014|   1|            24|      06|     1163128|     1910315|2015|02/10/2018 03:50:...|41.909549618|-87.676171975|(41.909549618, -8...|\n",
      "|10226474|   HY413765|09/06/2015 04:00:...|012XX N MILWAUKEE...|0870|              THEFT|     POCKET-PICKING|           CTA TRAIN| false|   false|1424|     014|   1|            24|      06|     1165712|     1908139|2015|02/10/2018 03:50:...| 41.90352381| -87.66674162|(41.90352381, -87...|\n",
      "|10226734|   HY414300|08/30/2015 02:00:...|015XX N MILWAUKEE...|051A|            ASSAULT|AGGRAVATED: HANDGUN|              STREET| false|   false|1424|     014|   1|            24|     04A|     1162987|     1910434|2015|02/10/2018 03:50:...|41.909879125|-87.676686601|(41.909879125, -8...|\n",
      "|11859456|   JC471140|10/13/2019 11:15:...|   012XX N DAMEN AVE|0820|              THEFT|     $500 AND UNDER|              STREET| false|   false|1424|     014|   1|            24|      06|     1162838|     1908433|2019|10/20/2019 04:03:...|41.904391365|-87.677290185|(41.904391365, -8...|\n",
      "|10227840|   HY415216|09/05/2015 06:30:...| 020XX W LE MOYNE ST|0820|              THEFT|     $500 AND UNDER|              STREET| false|   false|1424|     014|   1|            24|      06|     1162610|     1909835|2015|02/10/2018 03:50:...|41.908243338|-87.678088352|(41.908243338, -8...|\n",
      "| 2378227|   HH686534|10/01/2002 07:00:...|   022XX W NORTH AVE|0910|MOTOR VEHICLE THEFT|         AUTOMOBILE|              STREET| false|   false|1424|     014|   1|            24|      07|        null|        null|2002|08/17/2015 03:03:...|        null|         null|                null|\n",
      "|10228137|   HY415838|09/08/2015 05:15:...|014XX N MILWAUKEE...|1320|    CRIMINAL DAMAGE|         TO VEHICLE|VEHICLE NON-COMME...| false|   false|1424|     014|   1|            24|      14|     1163687|     1909844|2015|02/10/2018 03:50:...| 41.90824539|-87.674131751|(41.90824539, -87...|\n",
      "|10228382|   HY416026|09/08/2015 07:30:...| 020XX W SCHILLER ST|0820|              THEFT|     $500 AND UNDER|              STREET| false|   false|1424|     014|   1|            24|      06|     1162574|     1909428|2015|02/10/2018 03:50:...|41.907127255|-87.678232016|(41.907127255, -8...|\n",
      "|11642696|   JC209087|04/01/2019 12:00:...|  021XX W Crystal St|0810|              THEFT|          OVER $500|RESIDENCE PORCH/H...| false|   false|1424|     014|   2|            24|      06|        null|        null|2019|04/08/2019 04:19:...|        null|         null|                null|\n",
      "|10228744|   HY416218|09/09/2015 06:20:...|018XX W EVERGREEN...|0650|           BURGLARY|      HOME INVASION|           APARTMENT| false|   false|1424|     014|   1|            24|      05|     1163542|     1909426|2015|02/10/2018 03:50:...|41.907101425|-87.674676198|(41.907101425, -8...|\n",
      "|10229209|   HY416242|09/08/2015 10:45:...|   023XX W NORTH AVE|0610|           BURGLARY|     FORCIBLE ENTRY|          RESTAURANT| false|   false|1424|     014|   1|            24|      05|     1160363|     1910580|2015|02/10/2018 03:50:...| 41.91033448|-87.686322049|(41.91033448, -87...|\n",
      "+--------+-----------+--------------------+--------------------+----+-------------------+-------------------+--------------------+------+--------+----+--------+----+--------------+--------+------------+------------+----+--------------------+------------+-------------+--------------------+\n",
      "only showing top 20 rows\n",
      "\n"
     ]
    }
   ],
   "source": [
    "df_pyspark.filter(\"Beat==1424\").show()"
   ]
  },
  {
   "cell_type": "code",
   "execution_count": null,
   "id": "61180da8",
   "metadata": {},
   "outputs": [
    {
     "name": "stdout",
     "output_type": "stream",
     "text": [
      "+--------+-----------+--------------------+--------------------+----+------------+--------------+--------------------+------+--------+----+--------+----+--------------+--------+------------+------------+----+--------------------+------------+-------------+--------------------+\n",
      "|      ID|Case Number|                Date|               Block|IUCR|Primary Type|   Description|Location Description|Arrest|Domestic|Beat|District|Ward|Community Area|FBI Code|X Coordinate|Y Coordinate|Year|          Updated On|    Latitude|    Longitude|            Location|\n",
      "+--------+-----------+--------------------+--------------------+----+------------+--------------+--------------------+------+--------+----+--------+----+--------------+--------+------------+------------+----+--------------------+------------+-------------+--------------------+\n",
      "|10224739|   HY411615|09/04/2015 11:30:...| 008XX N CENTRAL AVE|0870|       THEFT|POCKET-PICKING|             CTA BUS| false|   false|1511|     015|  29|            25|      06|     1138875|     1904869|2015|02/10/2018 03:50:...|41.895080471|-87.765400451|(41.895080471, -8...|\n",
      "|11646166|   JC213529|09/01/2018 12:01:...|082XX S INGLESIDE...|0810|       THEFT|     OVER $500|           RESIDENCE| false|    true|0631|     006|   8|            44|      06|        null|        null|2018|04/06/2019 04:04:...|        null|         null|                null|\n",
      "|10224744|   HY411605|09/05/2015 01:00:...|   025XX W CERMAK RD|0860|       THEFT|  RETAIL THEFT|  GROCERY FOOD STORE|  true|   false|1034|     010|  25|            31|      06|     1159734|     1889313|2015|09/17/2015 11:37:...|41.851988885|-87.689219118|(41.851988885, -8...|\n",
      "|10224746|   HY411662|09/05/2015 02:00:...|  071XX S PULASKI RD|0820|       THEFT|$500 AND UNDER|PARKING LOT/GARAG...| false|   false|0833|     008|  13|            65|      06|     1150938|     1857056|2015|02/10/2018 03:50:...|41.763647552|-87.722344693|(41.763647552, -8...|\n",
      "|10224752|   HY411601|09/03/2015 01:00:...| 020XX W SCHILLER ST|0810|       THEFT|     OVER $500|              STREET| false|   false|1424|     014|   1|            24|      06|     1162574|     1909428|2015|02/10/2018 03:50:...|41.907127255|-87.678232016|(41.907127255, -8...|\n",
      "|10224768|   HY410651|09/03/2015 08:30:...|078XX S ESCANABA AVE|0810|       THEFT|     OVER $500|VEHICLE NON-COMME...| false|   false|0421|     004|   7|            43|      06|     1196887|     1853400|2015|02/10/2018 03:50:...|41.752596188|-87.554055126|(41.752596188, -8...|\n",
      "|10224769|   HY411672|09/05/2015 02:30:...|    005XX S STATE ST|0890|       THEFT| FROM BUILDING|          RESTAURANT| false|   false|0123|     001|   2|            32|      06|     1176446|     1897964|2015|02/10/2018 03:50:...|41.875367424|-87.627620993|(41.875367424, -8...|\n",
      "|10224772|   HY411681|09/04/2015 11:00:...| 011XX N ASHLAND AVE|0810|       THEFT|     OVER $500|              STREET| false|   false|1213|     012|   1|            24|      06|     1165522|     1907528|2015|02/10/2018 03:50:...|41.901851233|-87.667456951|(41.901851233, -8...|\n",
      "|10224776|   HY411687|09/05/2015 02:45:...|  071XX S PULASKI RD|0810|       THEFT|     OVER $500|PARKING LOT/GARAG...| false|   false|0833|     008|  13|            65|      06|     1150938|     1857056|2015|02/10/2018 03:50:...|41.763647552|-87.722344693|(41.763647552, -8...|\n",
      "|10224784|   HY411422|09/04/2015 07:30:...|004XX W MARQUETTE RD|0810|       THEFT|     OVER $500|               OTHER| false|   false|0722|     007|   6|            68|      06|     1174441|     1860502|2015|02/10/2018 03:50:...|41.772613371|-87.636098706|(41.772613371, -8...|\n",
      "|10224803|   HY411745|09/04/2015 11:17:...| 012XX N LA SALLE DR|0890|       THEFT| FROM BUILDING|          RESTAURANT| false|   false|1821|     018|  42|             8|      06|     1174911|     1908547|2015|02/10/2018 03:50:...| 41.90444226| -87.63293969|(41.90444226, -87...|\n",
      "|10224805|   HY411740|09/05/2015 03:45:...|    004XX S STATE ST|0890|       THEFT| FROM BUILDING|             LIBRARY| false|   false|0113|     001|   2|            32|      06|     1176436|     1898416|2015|02/10/2018 03:50:...|41.876607964|-87.627644063|(41.876607964, -8...|\n",
      "|10224807|   HY411718|09/05/2015 03:30:...| 025XX W HARRISON ST|0820|       THEFT|$500 AND UNDER|VEHICLE NON-COMME...| false|   false|1135|     011|   2|            28|      06|     1159746|     1897284|2015|02/10/2018 03:50:...|41.873861861| -87.68895549|(41.873861861, -8...|\n",
      "|10224812|   HY411619|09/05/2015 12:30:...| 084XX S SAGINAW AVE|0820|       THEFT|$500 AND UNDER|           RESIDENCE| false|   false|0423|     004|   7|            46|      06|     1195296|     1849589|2015|02/10/2018 03:50:...|41.742177899|-87.560010869|(41.742177899, -8...|\n",
      "|10224813|   HY411765|08/30/2015 04:00:...|014XX S MICHIGAN AVE|0820|       THEFT|$500 AND UNDER|    RESIDENCE-GARAGE| false|   false|0131|     001|   2|            33|      06|     1177452|     1893551|2015|02/10/2018 03:50:...|41.863235129|-87.624061274|(41.863235129, -8...|\n",
      "|10224816|   HY411658|09/05/2015 11:00:...|034XX S DR MARTIN...|0890|       THEFT| FROM BUILDING|       ATHLETIC CLUB| false|   false|0211|     002|   4|            35|      06|     1179476|     1882211|2015|02/10/2018 03:50:...|41.832071291|-87.616978684|(41.832071291, -8...|\n",
      "|10224819|   HY411778|09/05/2015 03:02:...|     020XX E 79TH ST|0850|       THEFT| ATTEMPT THEFT|          DRUG STORE| false|   false|0414|     004|   8|            46|      06|     1191073|     1852990|2015|02/10/2018 03:50:...|41.751613643|-87.575373855|(41.751613643, -8...|\n",
      "|10224821|   HY411725|09/05/2015 03:00:...| 115XX S INDIANA AVE|0810|       THEFT|     OVER $500|PARKING LOT/GARAG...| false|   false|0532|     005|   9|            53|      06|     1179641|     1828625|2015|02/10/2018 03:50:...|41.685021672|-87.618008151|(41.685021672, -8...|\n",
      "|10224823|   HY411707|09/05/2015 12:00:...|  014XX N HALSTED ST|0820|       THEFT|$500 AND UNDER|              STREET|  true|   false|1822|     018|  27|             8|      06|     1170754|     1909471|2015|02/10/2018 03:50:...| 41.90706989|-87.648182264|(41.90706989, -87...|\n",
      "|10224825|   HY411703|09/05/2015 12:00:...|  106XX S SAWYER AVE|0820|       THEFT|$500 AND UNDER|              STREET| false|   false|2211|     022|  19|            74|      06|     1156566|     1833923|2015|02/10/2018 03:50:...|41.700055116|-87.702338239|(41.700055116, -8...|\n",
      "+--------+-----------+--------------------+--------------------+----+------------+--------------+--------------------+------+--------+----+--------+----+--------------+--------+------------+------------+----+--------------------+------------+-------------+--------------------+\n",
      "only showing top 20 rows\n",
      "\n"
     ]
    }
   ],
   "source": [
    "df_pyspark.filter(df_pyspark[\"Primary Type\"]==\"THEFT\").show()"
   ]
  },
  {
   "cell_type": "code",
   "execution_count": null,
   "id": "d23b001e",
   "metadata": {},
   "outputs": [
    {
     "name": "stderr",
     "output_type": "stream",
     "text": [
      "[Stage 5:============================================>              (6 + 2) / 8]\r"
     ]
    },
    {
     "name": "stdout",
     "output_type": "stream",
     "text": [
      "+--------------------+------+\n",
      "|        Primary Type| count|\n",
      "+--------------------+------+\n",
      "|               THEFT|837270|\n",
      "|             BATTERY|758486|\n",
      "|     CRIMINAL DAMAGE|477924|\n",
      "|           NARCOTICS|407897|\n",
      "|       OTHER OFFENSE|263480|\n",
      "|             ASSAULT|259499|\n",
      "|            BURGLARY|214695|\n",
      "| MOTOR VEHICLE THEFT|193902|\n",
      "|  DECEPTIVE PRACTICE|165308|\n",
      "|             ROBBERY|151617|\n",
      "|   CRIMINAL TRESPASS|123519|\n",
      "|   WEAPONS VIOLATION| 46416|\n",
      "|        PROSTITUTION| 45112|\n",
      "|OFFENSE INVOLVING...| 26634|\n",
      "|PUBLIC PEACE VIOL...| 24549|\n",
      "|         SEX OFFENSE| 16258|\n",
      "| CRIM SEXUAL ASSAULT| 15605|\n",
      "|LIQUOR LAW VIOLATION|  9020|\n",
      "|INTERFERENCE WITH...|  8299|\n",
      "|            GAMBLING|  7866|\n",
      "+--------------------+------+\n",
      "only showing top 20 rows\n",
      "\n"
     ]
    },
    {
     "name": "stderr",
     "output_type": "stream",
     "text": [
      "                                                                                \r"
     ]
    }
   ],
   "source": [
    "# We have grouped the data by Primary Type and counted the number of crimes in each category in descending order\n",
    "df_pyspark.groupBy(\"Primary Type\").count().orderBy('count', ascending=False).show()"
   ]
  },
  {
   "cell_type": "code",
   "execution_count": null,
   "id": "550e3dd4",
   "metadata": {},
   "outputs": [
    {
     "name": "stderr",
     "output_type": "stream",
     "text": [
      "[Stage 8:======================>                                    (3 + 5) / 8]\r"
     ]
    },
    {
     "name": "stdout",
     "output_type": "stream",
     "text": [
      "+-------------------+\n",
      "|count(Primary Type)|\n",
      "+-------------------+\n",
      "|            4071166|\n",
      "+-------------------+\n",
      "\n"
     ]
    },
    {
     "name": "stderr",
     "output_type": "stream",
     "text": [
      "                                                                                \r"
     ]
    }
   ],
   "source": [
    "df_pyspark.agg({\"Primary Type\": \"count\"}).show()"
   ]
  },
  {
   "cell_type": "code",
   "execution_count": null,
   "id": "d741dfff",
   "metadata": {},
   "outputs": [
    {
     "name": "stderr",
     "output_type": "stream",
     "text": [
      "[Stage 11:>                                                         (0 + 8) / 8]\r"
     ]
    },
    {
     "name": "stdout",
     "output_type": "stream",
     "text": [
      "+--------------------+------+\n",
      "|        Primary Type| count|\n",
      "+--------------------+------+\n",
      "|               THEFT|837270|\n",
      "|             BATTERY|758486|\n",
      "|     CRIMINAL DAMAGE|477924|\n",
      "|           NARCOTICS|407897|\n",
      "|       OTHER OFFENSE|263480|\n",
      "|             ASSAULT|259499|\n",
      "|            BURGLARY|214695|\n",
      "| MOTOR VEHICLE THEFT|193902|\n",
      "|  DECEPTIVE PRACTICE|165308|\n",
      "|             ROBBERY|151617|\n",
      "|   CRIMINAL TRESPASS|123519|\n",
      "|   WEAPONS VIOLATION| 46416|\n",
      "|        PROSTITUTION| 45112|\n",
      "|OFFENSE INVOLVING...| 26634|\n",
      "|PUBLIC PEACE VIOL...| 24549|\n",
      "|         SEX OFFENSE| 16258|\n",
      "| CRIM SEXUAL ASSAULT| 15605|\n",
      "|LIQUOR LAW VIOLATION|  9020|\n",
      "|INTERFERENCE WITH...|  8299|\n",
      "|            GAMBLING|  7866|\n",
      "+--------------------+------+\n",
      "only showing top 20 rows\n",
      "\n"
     ]
    },
    {
     "name": "stderr",
     "output_type": "stream",
     "text": [
      "                                                                                \r"
     ]
    }
   ],
   "source": [
    "# Apply the function to the dataframe\n",
    "crime_count(df_pyspark).show()"
   ]
  },
  {
   "cell_type": "code",
   "execution_count": null,
   "id": "0ba8e4b3",
   "metadata": {},
   "outputs": [
    {
     "name": "stderr",
     "output_type": "stream",
     "text": [
      "[Stage 14:>                                                         (0 + 8) / 8]\r"
     ]
    },
    {
     "name": "stdout",
     "output_type": "stream",
     "text": [
      "+------------------+--------------------+\n",
      "|      Primary Type|         Description|\n",
      "+------------------+--------------------+\n",
      "|DECEPTIVE PRACTICE|FINANCIAL IDENTIT...|\n",
      "+------------------+--------------------+\n",
      "\n"
     ]
    },
    {
     "name": "stderr",
     "output_type": "stream",
     "text": [
      "                                                                                \r"
     ]
    }
   ],
   "source": [
    "# Applied the function to the dataframe\n",
    "crime_description(df_pyspark, \"1153\")"
   ]
  },
  {
   "cell_type": "code",
   "execution_count": null,
   "id": "3c7db4af",
   "metadata": {},
   "outputs": [
    {
     "name": "stderr",
     "output_type": "stream",
     "text": [
      "                                                                                \r"
     ]
    },
    {
     "data": {
      "text/plain": [
       "0.5171240699847955"
      ]
     },
     "execution_count": 28,
     "metadata": {},
     "output_type": "execute_result"
    }
   ],
   "source": [
    "crime_percentage(df_pyspark, \"1153\")"
   ]
  },
  {
   "cell_type": "code",
   "execution_count": null,
   "id": "5d2ce84c",
   "metadata": {},
   "outputs": [
    {
     "name": "stderr",
     "output_type": "stream",
     "text": [
      "                                                                                \r"
     ]
    },
    {
     "name": "stdout",
     "output_type": "stream",
     "text": [
      "+--------------------+-----+\n",
      "|        Primary Type|count|\n",
      "+--------------------+-----+\n",
      "|               THEFT|91806|\n",
      "|             BATTERY|88041|\n",
      "|     CRIMINAL DAMAGE|53987|\n",
      "|           NARCOTICS|49324|\n",
      "|       OTHER OFFENSE|31531|\n",
      "|             ASSAULT|29219|\n",
      "|            BURGLARY|24867|\n",
      "| MOTOR VEHICLE THEFT|23145|\n",
      "|             ROBBERY|17433|\n",
      "|   CRIMINAL TRESPASS|13409|\n",
      "|  DECEPTIVE PRACTICE|13137|\n",
      "|        PROSTITUTION| 6007|\n",
      "|   WEAPONS VIOLATION| 4136|\n",
      "|OFFENSE INVOLVING...| 2387|\n",
      "|PUBLIC PEACE VIOL...| 2347|\n",
      "|         SEX OFFENSE| 2038|\n",
      "| CRIM SEXUAL ASSAULT| 1675|\n",
      "|LIQUOR LAW VIOLATION| 1359|\n",
      "|               ARSON|  938|\n",
      "|            GAMBLING|  912|\n",
      "+--------------------+-----+\n",
      "only showing top 20 rows\n",
      "\n"
     ]
    },
    {
     "name": "stderr",
     "output_type": "stream",
     "text": [
      "                                                                                \r"
     ]
    },
    {
     "name": "stdout",
     "output_type": "stream",
     "text": [
      "+--------------------+-----+\n",
      "|        Primary Type|count|\n",
      "+--------------------+-----+\n",
      "|             BATTERY| 3836|\n",
      "|               THEFT| 3338|\n",
      "|     CRIMINAL DAMAGE| 2213|\n",
      "|             ASSAULT| 1583|\n",
      "|  DECEPTIVE PRACTICE| 1206|\n",
      "|       OTHER OFFENSE| 1006|\n",
      "|            BURGLARY|  900|\n",
      "| MOTOR VEHICLE THEFT|  846|\n",
      "|   WEAPONS VIOLATION|  755|\n",
      "|             ROBBERY|  674|\n",
      "|           NARCOTICS|  405|\n",
      "|   CRIMINAL TRESPASS|  305|\n",
      "|OFFENSE INVOLVING...|  101|\n",
      "|CRIMINAL SEXUAL A...|   77|\n",
      "|PUBLIC PEACE VIOL...|   70|\n",
      "|         SEX OFFENSE|   67|\n",
      "|INTERFERENCE WITH...|   44|\n",
      "|               ARSON|   34|\n",
      "|            STALKING|   22|\n",
      "|LIQUOR LAW VIOLATION|   10|\n",
      "+--------------------+-----+\n",
      "only showing top 20 rows\n",
      "\n"
     ]
    },
    {
     "name": "stderr",
     "output_type": "stream",
     "text": [
      "                                                                                \r"
     ]
    },
    {
     "data": {
      "text/plain": [
       "-96.18627188485675"
      ]
     },
     "execution_count": 29,
     "metadata": {},
     "output_type": "execute_result"
    }
   ],
   "source": [
    "# Crimes compared for 2002 and 2020\n",
    "compare_crimes(df_pyspark, 2002, 2020)\n",
    "percentage_change_in_crime(df_pyspark, 2002, 2020)"
   ]
  },
  {
   "cell_type": "code",
   "execution_count": null,
   "id": "1b2d8380",
   "metadata": {},
   "outputs": [
    {
     "name": "stderr",
     "output_type": "stream",
     "text": [
      "[Stage 38:===========================================>              (6 + 2) / 8]\r"
     ]
    },
    {
     "name": "stdout",
     "output_type": "stream",
     "text": [
      "+--------------------+------+\n",
      "|        Primary Type| count|\n",
      "+--------------------+------+\n",
      "|               THEFT|226378|\n",
      "|     CRIMINAL DAMAGE|170464|\n",
      "|           NARCOTICS|160478|\n",
      "| MOTOR VEHICLE THEFT|150731|\n",
      "|             BATTERY|140674|\n",
      "|             ASSAULT| 54829|\n",
      "|             ROBBERY| 51699|\n",
      "|       OTHER OFFENSE| 47223|\n",
      "|        PROSTITUTION| 38161|\n",
      "|   WEAPONS VIOLATION| 15842|\n",
      "|  DECEPTIVE PRACTICE| 12314|\n",
      "|PUBLIC PEACE VIOL...|  6905|\n",
      "|   CRIMINAL TRESPASS|  6161|\n",
      "|INTERFERENCE WITH...|  4193|\n",
      "|LIQUOR LAW VIOLATION|  2076|\n",
      "|         SEX OFFENSE|  2017|\n",
      "|            GAMBLING|  1365|\n",
      "|          KIDNAPPING|  1307|\n",
      "|OFFENSE INVOLVING...|  1208|\n",
      "| CRIM SEXUAL ASSAULT|   792|\n",
      "+--------------------+------+\n",
      "only showing top 20 rows\n",
      "\n"
     ]
    },
    {
     "name": "stderr",
     "output_type": "stream",
     "text": [
      "                                                                                \r"
     ]
    }
   ],
   "source": [
    "crime_activity_based_on_location(df_pyspark, \"STREET\")"
   ]
  },
  {
   "cell_type": "code",
   "execution_count": null,
   "id": "3e8f01f1",
   "metadata": {},
   "outputs": [
    {
     "data": {
      "text/html": [
       "<div>\n",
       "<style scoped>\n",
       "    .dataframe tbody tr th:only-of-type {\n",
       "        vertical-align: middle;\n",
       "    }\n",
       "\n",
       "    .dataframe tbody tr th {\n",
       "        vertical-align: top;\n",
       "    }\n",
       "\n",
       "    .dataframe thead th {\n",
       "        text-align: right;\n",
       "    }\n",
       "</style>\n",
       "<table border=\"1\" class=\"dataframe\">\n",
       "  <thead>\n",
       "    <tr style=\"text-align: right;\">\n",
       "      <th></th>\n",
       "      <th>IUCR</th>\n",
       "      <th>PRIMARY DESCRIPTION</th>\n",
       "      <th>SECONDARY DESCRIPTION</th>\n",
       "      <th>INDEX CODE</th>\n",
       "      <th>ACTIVE</th>\n",
       "    </tr>\n",
       "  </thead>\n",
       "  <tbody>\n",
       "    <tr>\n",
       "      <th>0</th>\n",
       "      <td>110</td>\n",
       "      <td>HOMICIDE</td>\n",
       "      <td>FIRST DEGREE MURDER</td>\n",
       "      <td>I</td>\n",
       "      <td>True</td>\n",
       "    </tr>\n",
       "    <tr>\n",
       "      <th>1</th>\n",
       "      <td>130</td>\n",
       "      <td>HOMICIDE</td>\n",
       "      <td>SECOND DEGREE MURDER</td>\n",
       "      <td>I</td>\n",
       "      <td>True</td>\n",
       "    </tr>\n",
       "    <tr>\n",
       "      <th>2</th>\n",
       "      <td>141</td>\n",
       "      <td>HOMICIDE</td>\n",
       "      <td>INVOLUNTARY MANSLAUGHTER</td>\n",
       "      <td>N</td>\n",
       "      <td>True</td>\n",
       "    </tr>\n",
       "    <tr>\n",
       "      <th>3</th>\n",
       "      <td>142</td>\n",
       "      <td>HOMICIDE</td>\n",
       "      <td>RECKLESS HOMICIDE</td>\n",
       "      <td>N</td>\n",
       "      <td>True</td>\n",
       "    </tr>\n",
       "    <tr>\n",
       "      <th>4</th>\n",
       "      <td>261</td>\n",
       "      <td>CRIMINAL SEXUAL ASSAULT</td>\n",
       "      <td>AGGRAVATED - HANDGUN</td>\n",
       "      <td>I</td>\n",
       "      <td>True</td>\n",
       "    </tr>\n",
       "    <tr>\n",
       "      <th>...</th>\n",
       "      <td>...</td>\n",
       "      <td>...</td>\n",
       "      <td>...</td>\n",
       "      <td>...</td>\n",
       "      <td>...</td>\n",
       "    </tr>\n",
       "    <tr>\n",
       "      <th>405</th>\n",
       "      <td>5121</td>\n",
       "      <td>OTHER OFFENSE</td>\n",
       "      <td>ARSONIST - ANNUAL REGISTRATION</td>\n",
       "      <td>N</td>\n",
       "      <td>True</td>\n",
       "    </tr>\n",
       "    <tr>\n",
       "      <th>406</th>\n",
       "      <td>5122</td>\n",
       "      <td>OTHER OFFENSE</td>\n",
       "      <td>ARSONIST - FAIL TO REGISTER NEW ADDRESS</td>\n",
       "      <td>N</td>\n",
       "      <td>True</td>\n",
       "    </tr>\n",
       "    <tr>\n",
       "      <th>407</th>\n",
       "      <td>5130</td>\n",
       "      <td>OTHER OFFENSE</td>\n",
       "      <td>VIOLENT OFFENDER - DUTY TO REGISTER</td>\n",
       "      <td>N</td>\n",
       "      <td>True</td>\n",
       "    </tr>\n",
       "    <tr>\n",
       "      <th>408</th>\n",
       "      <td>5131</td>\n",
       "      <td>OTHER OFFENSE</td>\n",
       "      <td>VIOLENT OFFENDER - ANNUAL REGISTRATION</td>\n",
       "      <td>N</td>\n",
       "      <td>True</td>\n",
       "    </tr>\n",
       "    <tr>\n",
       "      <th>409</th>\n",
       "      <td>5132</td>\n",
       "      <td>OTHER OFFENSE</td>\n",
       "      <td>VIOLENT OFFENDER - FAIL TO REGISTER NEW ADDRESS</td>\n",
       "      <td>N</td>\n",
       "      <td>True</td>\n",
       "    </tr>\n",
       "  </tbody>\n",
       "</table>\n",
       "<p>410 rows × 5 columns</p>\n",
       "</div>"
      ],
      "text/plain": [
       "     IUCR      PRIMARY DESCRIPTION  \\\n",
       "0     110                 HOMICIDE   \n",
       "1     130                 HOMICIDE   \n",
       "2     141                 HOMICIDE   \n",
       "3     142                 HOMICIDE   \n",
       "4     261  CRIMINAL SEXUAL ASSAULT   \n",
       "..    ...                      ...   \n",
       "405  5121            OTHER OFFENSE   \n",
       "406  5122            OTHER OFFENSE   \n",
       "407  5130            OTHER OFFENSE   \n",
       "408  5131            OTHER OFFENSE   \n",
       "409  5132            OTHER OFFENSE   \n",
       "\n",
       "                               SECONDARY DESCRIPTION INDEX CODE  ACTIVE  \n",
       "0                                FIRST DEGREE MURDER          I    True  \n",
       "1                               SECOND DEGREE MURDER          I    True  \n",
       "2                           INVOLUNTARY MANSLAUGHTER          N    True  \n",
       "3                                  RECKLESS HOMICIDE          N    True  \n",
       "4                               AGGRAVATED - HANDGUN          I    True  \n",
       "..                                               ...        ...     ...  \n",
       "405                   ARSONIST - ANNUAL REGISTRATION          N    True  \n",
       "406          ARSONIST - FAIL TO REGISTER NEW ADDRESS          N    True  \n",
       "407              VIOLENT OFFENDER - DUTY TO REGISTER          N    True  \n",
       "408           VIOLENT OFFENDER - ANNUAL REGISTRATION          N    True  \n",
       "409  VIOLENT OFFENDER - FAIL TO REGISTER NEW ADDRESS          N    True  \n",
       "\n",
       "[410 rows x 5 columns]"
      ]
     },
     "execution_count": 31,
     "metadata": {},
     "output_type": "execute_result"
    }
   ],
   "source": [
    "pd.read_csv('Chicago_iucr-codes.csv', low_memory=False)"
   ]
  },
  {
   "cell_type": "code",
   "execution_count": null,
   "id": "ae469dcb",
   "metadata": {},
   "outputs": [],
   "source": [
    "# Create a new dataframe with the IUCR codes and descriptions\n",
    "df_iucr = spark.read.option('header', 'true').csv('Chicago_iucr-codes.csv')"
   ]
  },
  {
   "cell_type": "code",
   "execution_count": null,
   "id": "acfc5904",
   "metadata": {},
   "outputs": [
    {
     "name": "stderr",
     "output_type": "stream",
     "text": [
      "[Stage 42:>                                                         (0 + 8) / 8]\r"
     ]
    },
    {
     "name": "stdout",
     "output_type": "stream",
     "text": [
      "+--------------------+-----+\n",
      "|        Primary Type|count|\n",
      "+--------------------+-----+\n",
      "|  DECEPTIVE PRACTICE|   56|\n",
      "|OFFENSE INVOLVING...|   31|\n",
      "| CRIM SEXUAL ASSAULT|   15|\n",
      "|         SEX OFFENSE|    8|\n",
      "|               THEFT|    7|\n",
      "|            BURGLARY|    5|\n",
      "|           NARCOTICS|    2|\n",
      "|             BATTERY|    1|\n",
      "|             ASSAULT|    1|\n",
      "|             ROBBERY|    1|\n",
      "+--------------------+-----+\n",
      "\n"
     ]
    },
    {
     "name": "stderr",
     "output_type": "stream",
     "text": [
      "                                                                                \r"
     ]
    }
   ],
   "source": [
    "most_happening_crime(df_pyspark, 2009)"
   ]
  },
  {
   "cell_type": "markdown",
   "id": "b9bba7a7",
   "metadata": {},
   "source": []
  },
  {
   "cell_type": "code",
   "execution_count": null,
   "id": "d21298c1",
   "metadata": {},
   "outputs": [
    {
     "name": "stderr",
     "output_type": "stream",
     "text": [
      "[Stage 45:==================================================>       (7 + 1) / 8]\r"
     ]
    },
    {
     "name": "stdout",
     "output_type": "stream",
     "text": [
      "+------------+-----+\n",
      "|Primary Type|count|\n",
      "+------------+-----+\n",
      "|       THEFT|  830|\n",
      "+------------+-----+\n",
      "\n"
     ]
    },
    {
     "name": "stderr",
     "output_type": "stream",
     "text": [
      "                                                                                \r"
     ]
    }
   ],
   "source": [
    "count_crimes_in_block(df_pyspark, \"THEFT\", \"0000X W TERMINAL ST\")"
   ]
  },
  {
   "cell_type": "code",
   "execution_count": null,
   "id": "8dcd89bf",
   "metadata": {},
   "outputs": [
    {
     "name": "stderr",
     "output_type": "stream",
     "text": [
      "[Stage 62:>                                                         (0 + 8) / 8]\r"
     ]
    },
    {
     "name": "stdout",
     "output_type": "stream",
     "text": [
      "+--------------------+-----+\n",
      "|               Block|count|\n",
      "+--------------------+-----+\n",
      "| 063XX S ASHLAND AVE|  154|\n",
      "| 079XX S ASHLAND AVE|  137|\n",
      "|  040XX W MADISON ST|  135|\n",
      "|     0000X W 69TH ST|  127|\n",
      "|063XX S DR MARTIN...|  126|\n",
      "|     0000X W 95TH ST|  121|\n",
      "|079XX S COTTAGE G...|  121|\n",
      "|  079XX S HALSTED ST|  121|\n",
      "|     0000X W 79TH ST|  118|\n",
      "|     001XX W 87TH ST|  112|\n",
      "|  005XX S PULASKI RD|  106|\n",
      "|    046XX N BROADWAY|  103|\n",
      "|  039XX W MADISON ST|  102|\n",
      "|    022XX S STATE ST|   99|\n",
      "| 062XX S ASHLAND AVE|   99|\n",
      "|  066XX S HALSTED ST|   98|\n",
      "|002XX W GARFIELD ...|   94|\n",
      "|038XX W ROOSEVELT RD|   93|\n",
      "| 003XX N CENTRAL AVE|   92|\n",
      "|     002XX W 63RD ST|   92|\n",
      "+--------------------+-----+\n",
      "only showing top 20 rows\n",
      "\n"
     ]
    },
    {
     "name": "stderr",
     "output_type": "stream",
     "text": [
      "                                                                                \r"
     ]
    }
   ],
   "source": [
    "d1=common_crimes_in_block(df_pyspark, \"ROBBERY\")"
   ]
  },
  {
   "cell_type": "code",
   "execution_count": null,
   "id": "3af3a279",
   "metadata": {},
   "outputs": [
    {
     "name": "stderr",
     "output_type": "stream",
     "text": [
      "                                                                                \r"
     ]
    }
   ],
   "source": [
    "dataframe_crime_activity_based_on_location=crime_activity_based_on_location(df_pyspark, \"STREET\")\n",
    "dataframe_crime_activity_based_on_location.write.csv('crime_activity_based_on_location.csv')"
   ]
  },
  {
   "cell_type": "code",
   "execution_count": null,
   "id": "8e7dda69",
   "metadata": {},
   "outputs": [
    {
     "name": "stderr",
     "output_type": "stream",
     "text": [
      "                                                                                \r"
     ]
    },
    {
     "name": "stdout",
     "output_type": "stream",
     "text": [
      "+--------------------+-----+\n",
      "|        Primary Type|count|\n",
      "+--------------------+-----+\n",
      "|               THEFT|91806|\n",
      "|             BATTERY|88041|\n",
      "|     CRIMINAL DAMAGE|53987|\n",
      "|           NARCOTICS|49324|\n",
      "|       OTHER OFFENSE|31531|\n",
      "|             ASSAULT|29219|\n",
      "|            BURGLARY|24867|\n",
      "| MOTOR VEHICLE THEFT|23145|\n",
      "|             ROBBERY|17433|\n",
      "|   CRIMINAL TRESPASS|13409|\n",
      "|  DECEPTIVE PRACTICE|13137|\n",
      "|        PROSTITUTION| 6007|\n",
      "|   WEAPONS VIOLATION| 4136|\n",
      "|OFFENSE INVOLVING...| 2387|\n",
      "|PUBLIC PEACE VIOL...| 2347|\n",
      "|         SEX OFFENSE| 2038|\n",
      "| CRIM SEXUAL ASSAULT| 1675|\n",
      "|LIQUOR LAW VIOLATION| 1359|\n",
      "|               ARSON|  938|\n",
      "|            GAMBLING|  912|\n",
      "+--------------------+-----+\n",
      "only showing top 20 rows\n",
      "\n"
     ]
    },
    {
     "name": "stderr",
     "output_type": "stream",
     "text": [
      "[Stage 54:>                                                         (0 + 8) / 8]\r"
     ]
    },
    {
     "name": "stdout",
     "output_type": "stream",
     "text": [
      "+--------------------+-----+\n",
      "|        Primary Type|count|\n",
      "+--------------------+-----+\n",
      "|  DECEPTIVE PRACTICE|  126|\n",
      "|OFFENSE INVOLVING...|   41|\n",
      "| CRIM SEXUAL ASSAULT|   19|\n",
      "|         SEX OFFENSE|   14|\n",
      "|               THEFT|    8|\n",
      "|             BATTERY|    5|\n",
      "|           NARCOTICS|    4|\n",
      "|             ASSAULT|    2|\n",
      "|             ROBBERY|    2|\n",
      "|CRIMINAL SEXUAL A...|    1|\n",
      "|           OBSCENITY|    1|\n",
      "|   HUMAN TRAFFICKING|    1|\n",
      "+--------------------+-----+\n",
      "\n"
     ]
    },
    {
     "name": "stderr",
     "output_type": "stream",
     "text": [
      "                                                                                \r"
     ]
    },
    {
     "data": {
      "text/plain": [
       "(None, None)"
      ]
     },
     "execution_count": 36,
     "metadata": {},
     "output_type": "execute_result"
    }
   ],
   "source": [
    "compare_crimes(df_pyspark,2002, 2010)"
   ]
  },
  {
   "cell_type": "code",
   "execution_count": null,
   "id": "277bc38c",
   "metadata": {},
   "outputs": [],
   "source": []
  },
  {
   "cell_type": "code",
   "execution_count": null,
   "id": "f12bbf64",
   "metadata": {},
   "outputs": [],
   "source": [
    "# df_pyspark_date.write.csv('chicago_crime_data.csv', header='True')"
   ]
  },
  {
   "cell_type": "code",
   "execution_count": null,
   "id": "cd694f02",
   "metadata": {},
   "outputs": [],
   "source": [
    "print(crime_location(df_pyspark, \"THEFT\"))"
   ]
  },
  {
   "cell_type": "code",
   "execution_count": null,
   "id": "62225e8e",
   "metadata": {},
   "outputs": [],
   "source": [
    "dataframe_crime_count=crime_count(df_pyspark)\n",
    "dataframe_crime_count.write.csv('crime_count.csv', header='True')\n"
   ]
  },
  {
   "cell_type": "code",
   "execution_count": 244,
   "id": "78abee1f",
   "metadata": {},
   "outputs": [
    {
     "name": "stderr",
     "output_type": "stream",
     "text": [
      "                                                                                \r"
     ]
    }
   ],
   "source": [
    "dataframe_crime_latitude_longitude=crime_location(df_pyspark, \"THEFT\")\n",
    "dataframe_crime_latitude_longitude.write.csv('crime_latitude_longitude.csv', header='True')"
   ]
  },
  {
   "cell_type": "code",
   "execution_count": null,
   "metadata": {},
   "outputs": [
    {
     "name": "stderr",
     "output_type": "stream",
     "text": [
      "                                                                                \r"
     ]
    }
   ],
   "source": [
    "dataframe_most_crimes_occuring_block=most_crimes_occuring_block(df_pyspark)\n",
    "dataframe_most_crimes_occuring_block.write.csv('most_crimes_occuring_block.csv', header='True')"
   ]
  },
  {
   "cell_type": "code",
   "execution_count": null,
   "id": "ba07a4d6",
   "metadata": {},
   "outputs": [],
   "source": [
    "# # crime_time(df_pyspark_date, \"THEFT\").show()\n",
    "# # taking too much time\n",
    "# dataframe_crime_time=crime_time(df_pyspark_date, \"THEFT\")\n",
    "# dataframe_crime_time.write.csv('crime_time.csv', header='True')"
   ]
  },
  {
   "cell_type": "code",
   "execution_count": null,
   "id": "34a556f9",
   "metadata": {},
   "outputs": [
    {
     "name": "stderr",
     "output_type": "stream",
     "text": [
      "                                                                                \r"
     ]
    }
   ],
   "source": [
    "# Crimes compared for 2002 and 2020\n",
    "dataframe_compare_crimes=compare_crimes(df_pyspark, 2002, 2020)\n",
    "dataframe_compare_crimes.write.csv('compare_crimes.csv', header='True')"
   ]
  },
  {
   "cell_type": "code",
   "execution_count": 212,
   "id": "9906466a",
   "metadata": {},
   "outputs": [
    {
     "name": "stderr",
     "output_type": "stream",
     "text": [
      "                                                                                \r"
     ]
    }
   ],
   "source": [
    "dataframe_most_common_crime_in_block=most_common_crime_in_block(df_pyspark, \"100XX W OHARE ST\")\n",
    "dataframe_most_common_crime_in_block.write.csv('most_common_crime_in_block.csv', header='True')\n"
   ]
  },
  {
   "cell_type": "code",
   "execution_count": 217,
   "id": "62a67ccd",
   "metadata": {},
   "outputs": [
    {
     "name": "stderr",
     "output_type": "stream",
     "text": [
      "                                                                                \r"
     ]
    }
   ],
   "source": [
    "dataframe_total_arrest=total_arrest(df_pyspark)\n",
    "dataframe_total_arrest.write.csv('total_arrest.csv', header='True')"
   ]
  },
  {
   "cell_type": "code",
   "execution_count": 222,
   "id": "13cfe9e0",
   "metadata": {},
   "outputs": [
    {
     "name": "stderr",
     "output_type": "stream",
     "text": [
      "                                                                                \r"
     ]
    }
   ],
   "source": [
    "dataframe_reduction_in_crime=reduction_in_crime(df_pyspark, \"100XX W OHARE ST\")\n",
    "dataframe_reduction_in_crime.write.csv('reduction_in_crime.csv', header='True')"
   ]
  },
  {
   "cell_type": "code",
   "execution_count": null,
   "id": "3a2547d0",
   "metadata": {},
   "outputs": [],
   "source": []
  },
  {
   "cell_type": "code",
   "execution_count": null,
   "id": "ad05d705",
   "metadata": {},
   "outputs": [],
   "source": []
  },
  {
   "cell_type": "code",
   "execution_count": 258,
   "id": "0476db47",
   "metadata": {},
   "outputs": [],
   "source": []
  },
  {
   "cell_type": "code",
   "execution_count": null,
   "id": "e26b5796",
   "metadata": {},
   "outputs": [],
   "source": []
  },
  {
   "cell_type": "code",
   "execution_count": null,
   "id": "5ad9e593",
   "metadata": {},
   "outputs": [],
   "source": []
  }
 ],
 "metadata": {
  "kernelspec": {
   "display_name": "base",
   "language": "python",
   "name": "python3"
  },
  "language_info": {
   "codemirror_mode": {
    "name": "ipython",
    "version": 3
   },
   "file_extension": ".py",
   "mimetype": "text/x-python",
   "name": "python",
   "nbconvert_exporter": "python",
   "pygments_lexer": "ipython3",
   "version": "3.9.13"
  },
  "vscode": {
   "interpreter": {
    "hash": "cc9de663fc08b52b579a0bdb0f572a861b4ce3c75d6848d060ee4775e9de79b5"
   }
  }
 },
 "nbformat": 4,
 "nbformat_minor": 5
}
